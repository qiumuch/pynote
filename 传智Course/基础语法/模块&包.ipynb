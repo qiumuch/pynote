{
 "cells": [
  {
   "cell_type": "markdown",
   "metadata": {},
   "source": [
    ">### 模块\n",
    "\n",
    "**Python中的模块**\n",
    "\n",
    "模块就好比是工具包，要想使用这个工具包中的工具(就好比函数)，就需要导入这个模块"
   ]
  },
  {
   "cell_type": "code",
   "execution_count": null,
   "metadata": {
    "collapsed": true
   },
   "outputs": [],
   "source": [
    "import module1,mudule2...\n",
    "\n",
    "from 模块名 import 函数名1,函数名2....\n",
    "\n",
    "from modname import *"
   ]
  },
  {
   "cell_type": "markdown",
   "metadata": {},
   "source": [
    "**定位模块**\n",
    "\n",
    "当你导入一个模块，Python解析器对模块位置的搜索顺序是：\n",
    "\n",
    "1. 当前目录\n",
    "2. 如果不在当前目录，Python则搜索在shell变量PYTHONPATH下的每个目录。\n",
    "3. 如果都找不到，Python会察看默认路径。UNIX下，默认路径一般为/usr/local/lib/python/\n",
    "4. 模块搜索路径存储在system模块的sys.path变量中。变量里包含当前目录，PYTHONPATH和由安装过程决定的默认目录。"
   ]
  },
  {
   "cell_type": "markdown",
   "metadata": {},
   "source": [
    "**模块制作**\n",
    "\n",
    "可以根据name变量的结果能够判断出，是直接执行的python脚本还是被引入执行的，从而能够有选择性的执行测试代码\n",
    "* 直接运行此文件: main\n",
    "* 在其他文件中import此文件: 模块名"
   ]
  },
  {
   "cell_type": "markdown",
   "metadata": {},
   "source": [
    "** __all__的作用 **"
   ]
  },
  {
   "cell_type": "markdown",
   "metadata": {},
   "source": [
    "如果一个文件中有```__all__```变量，那么也就意味着这个变量中的元素，不会被 from xxx import *时导入"
   ]
  },
  {
   "cell_type": "code",
   "execution_count": null,
   "metadata": {
    "collapsed": true
   },
   "outputs": [],
   "source": [
    "__all__ = ['Test','test1']"
   ]
  },
  {
   "cell_type": "markdown",
   "metadata": {},
   "source": [
    ">### 包\n",
    "\n",
    "包将有联系的模块组织在一起，即放到同一个文件夹下，并且在这个文件夹创建一个名字为`__init__.py` 文件，那么这个文件夹就称之为包\n",
    "有效避免模块名称冲突问题，让应用组织结构更加清晰\n",
    "\n",
    "1.`__init__.py`文件有什么用\n",
    "\n",
    "`__init__.py` 控制着包的导入行为\n",
    "\n",
    "2.`__init__.py`为空\n",
    "\n",
    "仅仅是把这个包导入，不会导入包中的模块\n",
    "\n",
    "3.`__all__`\n",
    "\n",
    "在`__init__.py`文件中，定义一个`__all__`变量，它控制着 from 包名 import * 时导入的模块"
   ]
  },
  {
   "cell_type": "markdown",
   "metadata": {},
   "source": [
    "**在`__init__.py`中导入模块**"
   ]
  },
  {
   "cell_type": "code",
   "execution_count": null,
   "metadata": {
    "collapsed": true
   },
   "outputs": [],
   "source": [
    "#python2\n",
    "import sendmsg\n",
    "#python3\n",
    "from . import sendmsg"
   ]
  },
  {
   "cell_type": "markdown",
   "metadata": {},
   "source": [
    "**模块的发布**"
   ]
  },
  {
   "cell_type": "markdown",
   "metadata": {},
   "source": [
    "1.编辑setup.py文件\n",
    "\n",
    "py_modules需指明所需包含的py文件"
   ]
  },
  {
   "cell_type": "code",
   "execution_count": null,
   "metadata": {
    "collapsed": true
   },
   "outputs": [],
   "source": [
    "from distutils.core import setup\n",
    "\n",
    "setup(name=\"dongGe\", version=\"1.0\", description=\"dongGe's module\", author=\"dongGe\", py_modules=['suba.aa', 'subb.cc'])"
   ]
  },
  {
   "cell_type": "markdown",
   "metadata": {},
   "source": [
    "2.构建模块"
   ]
  },
  {
   "cell_type": "code",
   "execution_count": null,
   "metadata": {
    "collapsed": true
   },
   "outputs": [],
   "source": [
    "python setup.py build"
   ]
  },
  {
   "cell_type": "markdown",
   "metadata": {},
   "source": [
    "3.生成发布压缩包\n",
    "\n",
    "打包后,生成最终发布压缩包dongGe-1.0.tar.gz"
   ]
  },
  {
   "cell_type": "code",
   "execution_count": null,
   "metadata": {
    "collapsed": true
   },
   "outputs": [],
   "source": [
    "python setup.py sdist"
   ]
  },
  {
   "cell_type": "markdown",
   "metadata": {},
   "source": [
    "**模块安装、使用**\n",
    "\n",
    "1.安装的方式\n",
    "\n",
    "* 找到模块的压缩包\n",
    "* 解压\n",
    "* 进入文件夹\n",
    "* 执行命令python setup.py install\n",
    "\n",
    "注意：\n",
    "\n",
    "如果在install的时候，执行目录安装，可以使用python setup.py install --prefix=安装路径\n",
    "\n",
    "2.模块的引入\n",
    "\n",
    "在程序中，使用from import 即可完成对安装的模块使用\n",
    "\n",
    "from 模块名 import 模块名或者 *"
   ]
  },
  {
   "cell_type": "code",
   "execution_count": null,
   "metadata": {
    "collapsed": true
   },
   "outputs": [],
   "source": []
  }
 ],
 "metadata": {
  "kernelspec": {
   "display_name": "Python 3",
   "language": "python",
   "name": "python3"
  },
  "language_info": {
   "codemirror_mode": {
    "name": "ipython",
    "version": 3
   },
   "file_extension": ".py",
   "mimetype": "text/x-python",
   "name": "python",
   "nbconvert_exporter": "python",
   "pygments_lexer": "ipython3",
   "version": "3.6.1"
  }
 },
 "nbformat": 4,
 "nbformat_minor": 2
}
