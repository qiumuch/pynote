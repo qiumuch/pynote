{
 "cells": [
  {
   "cell_type": "markdown",
   "metadata": {},
   "source": [
    ">### 老王开枪"
   ]
  },
  {
   "cell_type": "markdown",
   "metadata": {},
   "source": [
    "搭建框架"
   ]
  },
  {
   "cell_type": "code",
   "execution_count": null,
   "metadata": {
    "collapsed": true
   },
   "outputs": [],
   "source": [
    "def main():\n",
    "    \"\"\"用来控制整个程序的流程\"\"\"\n",
    "    pass\n",
    "\n",
    "    #1.创建老王对象\n",
    "    \n",
    "    #2.创建一个枪对象\n",
    "    \n",
    "    #3.创建一个弹夹对象\n",
    "    \n",
    "    #4.创建一些子弹\n",
    "    \n",
    "    #5.创建一个敌人\n",
    "    \n",
    "    #6.老王把子弹安装到弹夹中\n",
    "    \n",
    "    #7.老王把弹夹安装到枪中\n",
    "    \n",
    "    #8.老王拿枪\n",
    "    \n",
    "    #9.老王开枪打敌人\n",
    "    \n",
    "if __name__ == '__main__':\n",
    "    main()"
   ]
  },
  {
   "cell_type": "markdown",
   "metadata": {},
   "source": [
    "实现类、创建对象"
   ]
  },
  {
   "cell_type": "code",
   "execution_count": null,
   "metadata": {
    "collapsed": true
   },
   "outputs": [],
   "source": [
    "class Person(object):\n",
    "    \"\"\"人类类\"\"\"\n",
    "    def __init__(self,name):\n",
    "        super(Person,self).__init__()\n",
    "        self.name = name\n"
   ]
  }
 ],
 "metadata": {
  "kernelspec": {
   "display_name": "Python 3",
   "language": "python",
   "name": "python3"
  },
  "language_info": {
   "codemirror_mode": {
    "name": "ipython",
    "version": 3
   },
   "file_extension": ".py",
   "mimetype": "text/x-python",
   "name": "python",
   "nbconvert_exporter": "python",
   "pygments_lexer": "ipython3",
   "version": "3.6.1"
  }
 },
 "nbformat": 4,
 "nbformat_minor": 2
}
