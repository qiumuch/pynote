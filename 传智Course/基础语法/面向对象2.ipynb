{
 "cells": [
  {
   "cell_type": "markdown",
   "metadata": {},
   "source": [
    ">### 面向对象2"
   ]
  },
  {
   "cell_type": "markdown",
   "metadata": {},
   "source": [
    "* 私有方法"
   ]
  },
  {
   "cell_type": "code",
   "execution_count": 20,
   "metadata": {},
   "outputs": [
    {
     "name": "stdout",
     "output_type": "stream",
     "text": [
      "余额不足\n"
     ]
    }
   ],
   "source": [
    "class Dog:\n",
    "    \n",
    "    #私有方法\n",
    "    def __send(self):\n",
    "        print(\"-------正在发送短信------\")\n",
    "        \n",
    "    def send_msg(self,new_money):\n",
    "        if new_money>10000:\n",
    "            self.__send()\n",
    "        else:\n",
    "            print(\"余额不足\")\n",
    "\n",
    "dog = Dog()\n",
    "dog.send_msg(100)\n"
   ]
  },
  {
   "cell_type": "markdown",
   "metadata": {},
   "source": [
    "* __del__()"
   ]
  },
  {
   "cell_type": "code",
   "execution_count": 8,
   "metadata": {},
   "outputs": [
    {
     "name": "stdout",
     "output_type": "stream",
     "text": [
      "- - - over - - -\n",
      "- - - over - - -\n",
      "=================\n"
     ]
    }
   ],
   "source": [
    "class Dog:\n",
    "    #无引用自动调用\n",
    "    def __del__(self):\n",
    "        print(\"- - - over - - -\")\n",
    "\n",
    "dog1 = Dog()\n",
    "dog2 =dog1\n",
    "\n",
    "del dog1\n",
    "del dog2\n",
    "print(\"=================\")"
   ]
  },
  {
   "cell_type": "markdown",
   "metadata": {},
   "source": [
    "* 检测对象的引用个数"
   ]
  },
  {
   "cell_type": "code",
   "execution_count": 9,
   "metadata": {},
   "outputs": [
    {
     "data": {
      "text/plain": [
       "2"
      ]
     },
     "execution_count": 9,
     "metadata": {},
     "output_type": "execute_result"
    }
   ],
   "source": [
    "import sys\n",
    "#sys.getrefcount()\n",
    "\n",
    "class T:\n",
    "    pass\n",
    "\n",
    "t = T()\n",
    "#检测引用个数，自动加一\n",
    "sys.getrefcount(t)"
   ]
  },
  {
   "cell_type": "markdown",
   "metadata": {},
   "source": [
    "* 继承&重写\n",
    "\n",
    "私有方法&私有属性不继承"
   ]
  },
  {
   "cell_type": "code",
   "execution_count": 19,
   "metadata": {},
   "outputs": [
    {
     "name": "stdout",
     "output_type": "stream",
     "text": [
      "- - - 飞 - - -\n",
      "- - - 狂叫 - - -\n",
      "- - - 汪汪叫 - - -\n",
      "- - - 汪汪叫 - - -\n",
      "- - - 吃 - - -\n"
     ]
    }
   ],
   "source": [
    "class Animal:\n",
    "    def eat(self):\n",
    "        print(\"- - - 吃 - - -\")\n",
    "    def drink(self):\n",
    "        print(\"- - - 喝 - - -\")\n",
    "    def sleep(self):\n",
    "        print(\"- - - 睡 - - -\")\n",
    "    def run(self):\n",
    "        print(\"- - - 跑 - - -\")\n",
    "        \n",
    "class Dog(Animal):\n",
    "    def bark(self):\n",
    "        print(\"- - - 汪汪叫 - - -\")  \n",
    "        \n",
    "class Xiaotq(Dog):\n",
    "    def fly(self):\n",
    "        print(\"- - - 飞 - - -\")\n",
    "    #重写\n",
    "    def bark(self):\n",
    "        print(\"- - - 狂叫 - - -\")\n",
    "        \n",
    "        #1.调用被重写的父类的方法\n",
    "        Dog.bark(self)\n",
    "        #2.调用super()\n",
    "        super().bark()\n",
    "        \n",
    "xiaotq = Xiaotq()\n",
    "xiaotq.fly()\n",
    "#调用Dog类方法，重写后调用自身方法\n",
    "xiaotq.bark()\n",
    "#调用Animal类方法\n",
    "xiaotq.eat()"
   ]
  },
  {
   "cell_type": "markdown",
   "metadata": {},
   "source": [
    "* 多继承"
   ]
  },
  {
   "cell_type": "code",
   "execution_count": 22,
   "metadata": {},
   "outputs": [
    {
     "name": "stdout",
     "output_type": "stream",
     "text": [
      "- - - test1\n",
      "- - - test2\n",
      "- - -Base\n",
      "(<class '__main__.C'>, <class '__main__.A'>, <class '__main__.B'>, <class '__main__.Base'>, <class 'object'>)\n"
     ]
    }
   ],
   "source": [
    "#加上object 新式类\n",
    "class Base(object):\n",
    "    def test(self):\n",
    "        print(\"- - -Base\")\n",
    "        \n",
    "class A(Base):\n",
    "    def test1(self):\n",
    "        print(\"- - - test1\")\n",
    "        \n",
    "class B(Base):\n",
    "    def test2(self):\n",
    "        print(\"- - - test2\")\n",
    "\n",
    "#多继承\n",
    "class C(A,B):\n",
    "    pass\n",
    "\n",
    "c = C()\n",
    "c.test1()\n",
    "c.test2()\n",
    "c.test()\n",
    "\n",
    "#类调用方法时的搜索顺序\n",
    "print(C.__mro__)"
   ]
  },
  {
   "cell_type": "markdown",
   "metadata": {},
   "source": [
    "* 多态"
   ]
  },
  {
   "cell_type": "code",
   "execution_count": 23,
   "metadata": {
    "collapsed": true
   },
   "outputs": [],
   "source": [
    "#面向对象三要素：封装，继承，多态\n",
    "#定义的时候不知道调谁，执行的时候才决定\n",
    "def intrduce(temp):\n",
    "    temp.print_self()"
   ]
  },
  {
   "cell_type": "code",
   "execution_count": null,
   "metadata": {
    "collapsed": true
   },
   "outputs": [],
   "source": []
  },
  {
   "cell_type": "code",
   "execution_count": 30,
   "metadata": {},
   "outputs": [
    {
     "name": "stdout",
     "output_type": "stream",
     "text": [
      "100\n",
      "----zzzzzzz------\n"
     ]
    }
   ],
   "source": [
    "class Game(object):\n",
    "    \n",
    "    #类属性\n",
    "    num = 0\n",
    "    \n",
    "    #实例方法\n",
    "    def __init__(self):\n",
    "        #实例属性\n",
    "        self.name = \"laowang\"\n",
    "    \n",
    "    #类方法\n",
    "    @classmethod\n",
    "    def add_num(cls):\n",
    "        cls.num = 100\n",
    "     \n",
    "    #静态方法\n",
    "    @staticmethod\n",
    "    def print_menu():\n",
    "        print(\"----zzzzzzz------\")\n",
    "        \n",
    "game = Game()\n",
    "#调用类方法可以用类名或者这个类创建出来的对象\n",
    "#Game.add_num()\n",
    "game.add_num()\n",
    "print(Game.num)\n",
    "\n",
    "Game.print_menu()\n",
    "# game.print_menu()"
   ]
  }
 ],
 "metadata": {
  "kernelspec": {
   "display_name": "Python 3",
   "language": "python",
   "name": "python3"
  },
  "language_info": {
   "codemirror_mode": {
    "name": "ipython",
    "version": 3
   },
   "file_extension": ".py",
   "mimetype": "text/x-python",
   "name": "python",
   "nbconvert_exporter": "python",
   "pygments_lexer": "ipython3",
   "version": "3.6.1"
  }
 },
 "nbformat": 4,
 "nbformat_minor": 2
}
