{
 "cells": [
  {
   "cell_type": "markdown",
   "metadata": {},
   "source": [
    ">### 面向对象1"
   ]
  },
  {
   "cell_type": "code",
   "execution_count": 6,
   "metadata": {},
   "outputs": [
    {
     "name": "stdout",
     "output_type": "stream",
     "text": [
      "猫在吃鱼...\n",
      "猫在喝可乐...\n",
      "汤姆的年龄是：50\n",
      "汤姆的年龄是：50\n"
     ]
    }
   ],
   "source": [
    "class Cat:\n",
    "    \n",
    "    #初始化对象\n",
    "    def __init__(self,new_name,new_age):\n",
    "        #把局部变量的值传给self\n",
    "        self.name=new_name\n",
    "        self.age=new_age\n",
    "        \n",
    "    #描述信息\n",
    "    def __str__(self):\n",
    "        return \"%s的年龄是：%d\"%(self.name,self.age)\n",
    "    \n",
    "    def eat(self):\n",
    "        print (\"猫在吃鱼...\")\n",
    "        \n",
    "    def drink(self):\n",
    "        print (\"猫在喝可乐...\")\n",
    "        \n",
    "    def introduce(self):\n",
    "        print (\"%s的年龄是：%d\"%(self.name,self.age))\n",
    "        \n",
    "tom = Cat(\"汤姆\",50)\n",
    "tom.eat()\n",
    "tom.drink()\n",
    "\n",
    "# tom.age = 40\n",
    "tom.introduce()\n",
    "\n",
    "print (tom)"
   ]
  },
  {
   "cell_type": "markdown",
   "metadata": {},
   "source": [
    ">### 烤地瓜"
   ]
  },
  {
   "cell_type": "code",
   "execution_count": 3,
   "metadata": {},
   "outputs": [
    {
     "name": "stdout",
     "output_type": "stream",
     "text": [
      "地瓜状态：生的(0)，添加的佐料有：[]\n",
      "地瓜状态：生的(1)，添加的佐料有：[]\n",
      "地瓜状态：生的(2)，添加的佐料有：[]\n",
      "地瓜状态：半生不熟(3)，添加的佐料有：['大蒜']\n",
      "地瓜状态：半生不熟(4)，添加的佐料有：['大蒜']\n",
      "地瓜状态：熟了(5)，添加的佐料有：['大蒜', '孜然']\n",
      "地瓜状态：熟了(6)，添加的佐料有：['大蒜', '孜然']\n",
      "地瓜状态：熟了(7)，添加的佐料有：['大蒜', '孜然', '番茄酱']\n"
     ]
    }
   ],
   "source": [
    "class SweetPotato:\n",
    "    \n",
    "    def __init__(self):\n",
    "        #属性\n",
    "        self.cookedString = \"生的\"\n",
    "        self.cookedLevel = 0\n",
    "        self.condiments = []\n",
    "        \n",
    "    def __str__(self):\n",
    "        return \"地瓜状态：%s(%d)，添加的佐料有：%s\"%(self.cookedString,\n",
    "                                        self.cookedLevel,str(self.condiments))\n",
    "        \n",
    "    def cook(self,cooked_time):\n",
    "        \n",
    "        self.cookedLevel += cooked_time\n",
    "        \n",
    "        if self.cookedLevel >=0 and self.cookedLevel<3:\n",
    "            self.cookedString = \"生的\"\n",
    "        elif self.cookedLevel >=3 and self.cookedLevel<5:\n",
    "            self.cookedString = \"半生不熟\"\n",
    "        elif self.cookedLevel >=5 and self.cookedLevel<8:\n",
    "            self.cookedString = \"熟了\"\n",
    "        elif self.cookedLevel >=8:\n",
    "            self.cookedString = \"糊了\"\n",
    "            \n",
    "    def addCondiments(self,item):\n",
    "        self.condiments.append(item)\n",
    "            \n",
    "        \n",
    "#创建了一个地瓜对象        \n",
    "di_gu = SweetPotato()\n",
    "print (di_gu)\n",
    "\n",
    "#开始烤地瓜\n",
    "di_gu.cook(1)\n",
    "print (di_gu)\n",
    "di_gu.cook(1)\n",
    "print (di_gu)\n",
    "di_gu.addCondiments(\"大蒜\")\n",
    "di_gu.cook(1)\n",
    "print (di_gu)\n",
    "di_gu.cook(1)\n",
    "print (di_gu)\n",
    "di_gu.addCondiments(\"孜然\")\n",
    "di_gu.cook(1)\n",
    "print (di_gu)\n",
    "di_gu.cook(1)\n",
    "print (di_gu)\n",
    "di_gu.addCondiments(\"番茄酱\")\n",
    "di_gu.cook(1)\n",
    "print (di_gu)"
   ]
  },
  {
   "cell_type": "markdown",
   "metadata": {},
   "source": [
    ">### 存放家具"
   ]
  },
  {
   "cell_type": "code",
   "execution_count": 13,
   "metadata": {},
   "outputs": [
    {
     "name": "stdout",
     "output_type": "stream",
     "text": [
      "房子的总面积是：129，可用面积是：129，户型是：三室一厅，地址是：北京市 朝阳区 长安街当前房子里的物品有[]\n",
      "席梦思占用的面积是：4\n",
      "房子的总面积是：129，可用面积是：125，户型是：三室一厅，地址是：北京市 朝阳区 长安街当前房子里的物品有['席梦思']\n",
      "房子的总面积是：129，可用面积是：122，户型是：三室一厅，地址是：北京市 朝阳区 长安街当前房子里的物品有['席梦思', '大床']\n"
     ]
    }
   ],
   "source": [
    "class Home:\n",
    "    def __init__(self,new_area,new_info,new_addr):\n",
    "        self.area = new_area\n",
    "        self.info = new_info\n",
    "        self.addr = new_addr\n",
    "        self.left_area = new_area\n",
    "        self.contain_items = []\n",
    "        \n",
    "    def __str__(self):\n",
    "        msg = \"房子的总面积是：%d，可用面积是：%d，户型是：%s，地址是：%s\"%(self.area,\n",
    "                                                self.left_area,self.info,self.addr)\n",
    "        msg += \"当前房子里的物品有%s\"%(str(self.contain_items))   \n",
    "        return msg\n",
    "        \n",
    "    def add_item(self,item):\n",
    "        #获取属性用方法\n",
    "        self.left_area -= item.get_area()\n",
    "        self.contain_items.append(item.get_name())\n",
    "#         self.left_area -= item.area\n",
    "#         self.contain_items.append(item.name)\n",
    "\n",
    "class Bed:\n",
    "    def __init__(self,new_name,new_area):\n",
    "        self.name = new_name\n",
    "        self.area = new_area\n",
    "        \n",
    "    def __str__(self):\n",
    "        return \"%s占用的面积是：%d\"%(self.name,self.area)\n",
    "    \n",
    "    def get_area(self):\n",
    "        return self.area\n",
    "    \n",
    "    def get_name(self):\n",
    "        return self.name\n",
    "\n",
    "fangzi = Home(129,\"三室一厅\",\"北京市 朝阳区 长安街\")\n",
    "print (fangzi)\n",
    "\n",
    "bed1 = Bed(\"席梦思\",4)\n",
    "print(bed1)\n",
    "\n",
    "fangzi.add_item(bed1)\n",
    "print(fangzi)\n",
    "\n",
    "bed2 = Bed(\"大床\",3)\n",
    "fangzi.add_item(bed2)\n",
    "print(fangzi)"
   ]
  },
  {
   "cell_type": "code",
   "execution_count": null,
   "metadata": {
    "collapsed": true
   },
   "outputs": [],
   "source": []
  }
 ],
 "metadata": {
  "kernelspec": {
   "display_name": "Python 3",
   "language": "python",
   "name": "python3"
  },
  "language_info": {
   "codemirror_mode": {
    "name": "ipython",
    "version": 3
   },
   "file_extension": ".py",
   "mimetype": "text/x-python",
   "name": "python",
   "nbconvert_exporter": "python",
   "pygments_lexer": "ipython3",
   "version": "3.6.1"
  }
 },
 "nbformat": 4,
 "nbformat_minor": 2
}
