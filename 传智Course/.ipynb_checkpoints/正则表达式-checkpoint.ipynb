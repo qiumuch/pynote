{
 "cells": [
  {
   "cell_type": "markdown",
   "metadata": {},
   "source": [
    ">### 正则表达式概述\n",
    "\n",
    "正则表达式，又称正规表示式、正规表示法、正规表达式、规则表达式、常规表示法（英语：Regular Expression，在代码中常简写为regex、regexp或RE），是计算机科学的一个概念。正则表达式使用单个字符串来描述、匹配一系列匹配某个句法规则的字符串。在很多文本编辑器里，正则表达式通常被用来检索、替换那些匹配某个模式的文本。\n",
    "\n",
    "Regular Expression的“Regular”一般被译为“正则”、“正规”、“常规”。此处的“Regular”即是“规则”、“规律”的意思，Regular Expression即“描述某种规则的表达式”之意。"
   ]
  },
  {
   "cell_type": "markdown",
   "metadata": {},
   "source": [
    ">### re模块操作\n",
    "\n",
    "在Python中需要通过正则表达式对字符串进行匹配的时候，可以使用一个模块，名字为re\n",
    "\n",
    "**1.re模块的使用过程**"
   ]
  },
  {
   "cell_type": "code",
   "execution_count": null,
   "metadata": {
    "collapsed": true
   },
   "outputs": [],
   "source": [
    "#coding=utf-8\n",
    "\n",
    "# 导入re模块\n",
    "import re\n",
    "\n",
    "# 使用match方法进行匹配操作\n",
    "result = re.match(正则表达式,要匹配的字符串)\n",
    "\n",
    "# 如果上一步匹配到数据的话，可以使用group方法来提取数据\n",
    "result.group()"
   ]
  },
  {
   "cell_type": "markdown",
   "metadata": {},
   "source": [
    "re.match是用来进行正则匹配检查的方法，若字符串匹配正则表达式，则match方法返回匹配对象（Match Object），否则返回None（注意不是空字符串\"\"）。\n",
    "\n",
    "匹配对象Macth Object具有group方法，用来返回字符串的匹配部分。"
   ]
  },
  {
   "cell_type": "markdown",
   "metadata": {},
   "source": [
    "**2.re模块示例(匹配以itcast开头的语句)**"
   ]
  },
  {
   "cell_type": "code",
   "execution_count": 2,
   "metadata": {},
   "outputs": [
    {
     "data": {
      "text/plain": [
       "'itcast'"
      ]
     },
     "execution_count": 2,
     "metadata": {},
     "output_type": "execute_result"
    }
   ],
   "source": [
    "#coding=utf-8\n",
    "\n",
    "import re\n",
    "\n",
    "result = re.match(\"itcast\",\"itcast.cn\")\n",
    "\n",
    "result.group()"
   ]
  },
  {
   "cell_type": "markdown",
   "metadata": {},
   "source": [
    ">### 表示字符\n",
    "\n",
    "**正则表达式的单字符匹配**"
   ]
  },
  {
   "cell_type": "markdown",
   "metadata": {},
   "source": [
    "|字符 |功能|\n",
    "|---|---|\n",
    "|.\t|匹配任意1个字符（除了\\n）|\n",
    "|[ ]\t|匹配[ ]中列举的字符|\n",
    "|\\d\t|匹配数字，即0-9|\n",
    "|\\D\t|匹配非数字，即不是数字|\n",
    "|\\s\t|匹配空白，即 空格，tab键|\n",
    "|\\S\t|匹配非空白|\n",
    "|\\w\t|匹配单词字符，即a-z、A-Z、0-9、_|\n",
    "|\\W\t|匹配非单词字符|\n",
    "|^ |取反|"
   ]
  },
  {
   "cell_type": "code",
   "execution_count": 9,
   "metadata": {},
   "outputs": [
    {
     "data": {
      "text/plain": [
       "'a'"
      ]
     },
     "execution_count": 9,
     "metadata": {},
     "output_type": "execute_result"
    }
   ],
   "source": [
    "#匹配任意字符\n",
    "ret = re.match(\".\",\"a\")\n",
    "ret.group()"
   ]
  },
  {
   "cell_type": "code",
   "execution_count": 17,
   "metadata": {},
   "outputs": [
    {
     "data": {
      "text/plain": [
       "'1H'"
      ]
     },
     "execution_count": 17,
     "metadata": {},
     "output_type": "execute_result"
    }
   ],
   "source": [
    "# 匹配0到9\n",
    "ret = re.match(\"1[A-Z0-9]\",\"1Hello Python\")\n",
    "ret.group()"
   ]
  },
  {
   "cell_type": "markdown",
   "metadata": {},
   "source": [
    "**Python中字符串前面加上 r 表示原生字符串**\n",
    "\n",
    "与大多数编程语言相同，正则表达式里使用\"\\\"作为转义字符，这就可能造成反斜杠困扰。假如你需要匹配文本中的字符\"\\\"，那么使用编程语言表示的正则表达式里将需要4个反斜杠\"\\\\\"：前两个和后两个分别用于在编程语言里转义成反斜杠，转换成两个反斜杠后再在正则表达式里转义成一个反斜杠。\n",
    "\n",
    "Python里的原生字符串很好地解决了这个问题，有了原始字符串，再也不用担心是不是漏写了反斜杠，写出来的表达式也更直观。"
   ]
  },
  {
   "cell_type": "code",
   "execution_count": 16,
   "metadata": {},
   "outputs": [
    {
     "name": "stdout",
     "output_type": "stream",
     "text": [
      "c:\\a\n"
     ]
    }
   ],
   "source": [
    "mm = \"c:\\\\a\\\\b\\\\c\"\n",
    "ret = re.match(r\"c:\\\\a\",mm).group()\n",
    "print(ret)"
   ]
  },
  {
   "cell_type": "markdown",
   "metadata": {},
   "source": [
    ">### 表示数量\n",
    "\n",
    "**匹配多个字符的相关格式**\n",
    "\n",
    "|字符\t|功能|\n",
    "|----|----|\n",
    "|*\t|匹配前一个字符出现0次或者无限次，即可有可无|\n",
    "|+\t|匹配前一个字符出现1次或者无限次，即至少有1次|\n",
    "|?\t|匹配前一个字符出现1次或者0次，即要么有1次，要么没有|\n",
    "|{m}\t|匹配前一个字符出现m次|\n",
    "|{m,}\t|匹配前一个字符至少出现m次|\n",
    "|{m,n}\t|匹配前一个字符出现从m到n次|"
   ]
  },
  {
   "cell_type": "markdown",
   "metadata": {},
   "source": [
    "需求：匹配出，一个字符串第一个字母为大小字符，后面都是小写字母并且这些小写字母可有可无"
   ]
  },
  {
   "cell_type": "code",
   "execution_count": 29,
   "metadata": {},
   "outputs": [
    {
     "data": {
      "text/plain": [
       "'Aabcdef'"
      ]
     },
     "execution_count": 29,
     "metadata": {},
     "output_type": "execute_result"
    }
   ],
   "source": [
    "ret = re.match(\"[^a-z][a-z]*\",\"Aabcdef\")\n",
    "ret.group()"
   ]
  },
  {
   "cell_type": "markdown",
   "metadata": {},
   "source": [
    "需求：匹配出，变量名是否有效"
   ]
  },
  {
   "cell_type": "code",
   "execution_count": 21,
   "metadata": {},
   "outputs": [
    {
     "data": {
      "text/plain": [
       "'name1'"
      ]
     },
     "execution_count": 21,
     "metadata": {},
     "output_type": "execute_result"
    }
   ],
   "source": [
    "ret = re.match(\"[a-zA-Z_]+[\\w_]*\",\"name1\")\n",
    "ret.group()"
   ]
  },
  {
   "cell_type": "markdown",
   "metadata": {},
   "source": [
    "示例：{m}"
   ]
  },
  {
   "cell_type": "code",
   "execution_count": 26,
   "metadata": {},
   "outputs": [
    {
     "data": {
      "text/plain": [
       "'1234abc'"
      ]
     },
     "execution_count": 26,
     "metadata": {},
     "output_type": "execute_result"
    }
   ],
   "source": [
    "re.match(\"\\d{4}[a-z]*\",\"1234abc\").group()"
   ]
  },
  {
   "cell_type": "markdown",
   "metadata": {},
   "source": [
    "需求：匹配出，8到20位的密码，可以是大小写英文字母、数字、下划线"
   ]
  },
  {
   "cell_type": "code",
   "execution_count": 32,
   "metadata": {},
   "outputs": [
    {
     "data": {
      "text/plain": [
       "'1ad12f23s34455ff66'"
      ]
     },
     "execution_count": 32,
     "metadata": {},
     "output_type": "execute_result"
    }
   ],
   "source": [
    "#[a-zA-Z0-9_]=\\w\n",
    "ret = re.match(\"[a-zA-Z0-9_]{8,20}\",\"1ad12f23s34455ff66\")\n",
    "ret.group()"
   ]
  },
  {
   "cell_type": "markdown",
   "metadata": {
    "collapsed": true
   },
   "source": [
    ">### 表示边界"
   ]
  },
  {
   "cell_type": "markdown",
   "metadata": {},
   "source": [
    "|字符\t|功能|\n",
    "|----|----|\n",
    "|^\t|匹配字符串开头|\n",
    "|$\t|匹配字符串结尾|\n",
    "|\\b\t|匹配一个单词的边界|\n",
    "|\\B\t|匹配非单词边界|"
   ]
  },
  {
   "cell_type": "markdown",
   "metadata": {},
   "source": [
    "1.$"
   ]
  },
  {
   "cell_type": "markdown",
   "metadata": {},
   "source": [
    "需求：匹配163.com的邮箱地址"
   ]
  },
  {
   "cell_type": "code",
   "execution_count": 4,
   "metadata": {},
   "outputs": [
    {
     "data": {
      "text/plain": [
       "'xiaoWang@163.com'"
      ]
     },
     "execution_count": 4,
     "metadata": {},
     "output_type": "execute_result"
    }
   ],
   "source": [
    "import re\n",
    "\n",
    "# 正确的地址\n",
    "ret = re.match(\"[\\w]{4,20}@163\\.com\", \"xiaoWang@163.com\")\n",
    "ret.group()\n",
    "\n",
    "# 不正确的地址\n",
    "ret = re.match(\"[\\w]{4,20}@163\\.com\", \"xiaoWang@163.comheihei\")\n",
    "ret.group()"
   ]
  },
  {
   "cell_type": "code",
   "execution_count": 5,
   "metadata": {},
   "outputs": [
    {
     "ename": "AttributeError",
     "evalue": "'NoneType' object has no attribute 'group'",
     "output_type": "error",
     "traceback": [
      "\u001b[1;31m---------------------------------------------------------------------------\u001b[0m",
      "\u001b[1;31mAttributeError\u001b[0m                            Traceback (most recent call last)",
      "\u001b[1;32m<ipython-input-5-a5f8110f85eb>\u001b[0m in \u001b[0;36m<module>\u001b[1;34m()\u001b[0m\n\u001b[0;32m      1\u001b[0m \u001b[1;31m# 通过$来确定末尾\u001b[0m\u001b[1;33m\u001b[0m\u001b[1;33m\u001b[0m\u001b[0m\n\u001b[0;32m      2\u001b[0m \u001b[0mret\u001b[0m \u001b[1;33m=\u001b[0m \u001b[0mre\u001b[0m\u001b[1;33m.\u001b[0m\u001b[0mmatch\u001b[0m\u001b[1;33m(\u001b[0m\u001b[1;34m\"[\\w]{4,20}@163\\.com$\"\u001b[0m\u001b[1;33m,\u001b[0m \u001b[1;34m\"xiaoWang@163.comheihei\"\u001b[0m\u001b[1;33m)\u001b[0m\u001b[1;33m\u001b[0m\u001b[0m\n\u001b[1;32m----> 3\u001b[1;33m \u001b[0mret\u001b[0m\u001b[1;33m.\u001b[0m\u001b[0mgroup\u001b[0m\u001b[1;33m(\u001b[0m\u001b[1;33m)\u001b[0m\u001b[1;33m\u001b[0m\u001b[0m\n\u001b[0m",
      "\u001b[1;31mAttributeError\u001b[0m: 'NoneType' object has no attribute 'group'"
     ]
    }
   ],
   "source": [
    "# 通过$来确定末尾\n",
    "ret = re.match(\"[\\w]{4,20}@163\\.com$\", \"xiaoWang@163.comheihei\")\n",
    "ret.group()"
   ]
  },
  {
   "cell_type": "markdown",
   "metadata": {},
   "source": [
    "2./b"
   ]
  },
  {
   "cell_type": "code",
   "execution_count": 6,
   "metadata": {},
   "outputs": [
    {
     "data": {
      "text/plain": [
       "'ho ver'"
      ]
     },
     "execution_count": 6,
     "metadata": {},
     "output_type": "execute_result"
    }
   ],
   "source": [
    "re.match(r\".*\\bver\\b\", \"ho ver abc\").group()"
   ]
  },
  {
   "cell_type": "code",
   "execution_count": 9,
   "metadata": {},
   "outputs": [
    {
     "ename": "AttributeError",
     "evalue": "'NoneType' object has no attribute 'group'",
     "output_type": "error",
     "traceback": [
      "\u001b[1;31m---------------------------------------------------------------------------\u001b[0m",
      "\u001b[1;31mAttributeError\u001b[0m                            Traceback (most recent call last)",
      "\u001b[1;32m<ipython-input-9-dedf3070dffb>\u001b[0m in \u001b[0;36m<module>\u001b[1;34m()\u001b[0m\n\u001b[1;32m----> 1\u001b[1;33m \u001b[0mre\u001b[0m\u001b[1;33m.\u001b[0m\u001b[0mmatch\u001b[0m\u001b[1;33m(\u001b[0m\u001b[1;34mr\".*\\bver\\b\"\u001b[0m\u001b[1;33m,\u001b[0m \u001b[1;34m\"ho verabc\"\u001b[0m\u001b[1;33m)\u001b[0m\u001b[1;33m.\u001b[0m\u001b[0mgroup\u001b[0m\u001b[1;33m(\u001b[0m\u001b[1;33m)\u001b[0m\u001b[1;33m\u001b[0m\u001b[0m\n\u001b[0m",
      "\u001b[1;31mAttributeError\u001b[0m: 'NoneType' object has no attribute 'group'"
     ]
    }
   ],
   "source": [
    "#没有ver单词时出错\n",
    "re.match(r\".*\\bver\\b\", \"ho verabc\").group()"
   ]
  },
  {
   "cell_type": "markdown",
   "metadata": {},
   "source": [
    ">### 匹配分组"
   ]
  },
  {
   "cell_type": "markdown",
   "metadata": {},
   "source": [
    "|字符\t|功能|\n",
    "|----|----|\n",
    "|\t|匹配左右任意一个表达式|\n",
    "|(ab)\t|将括号中字符作为一个分组|\n",
    "|\\num\t|引用分组num匹配到的字符串|\n",
    "|(?P<name>)\t|分组起别名|\n",
    "|(?P=name)\t|引用别名为name分组匹配到的字符串|"
   ]
  },
  {
   "cell_type": "markdown",
   "metadata": {},
   "source": [
    "示例1：( )\n",
    "\n",
    "需求：匹配出163、126、qq邮箱之间的数字"
   ]
  },
  {
   "cell_type": "code",
   "execution_count": 15,
   "metadata": {},
   "outputs": [
    {
     "data": {
      "text/plain": [
       "'test@126.com'"
      ]
     },
     "execution_count": 15,
     "metadata": {},
     "output_type": "execute_result"
    }
   ],
   "source": [
    "ret = re.match(\"\\w{4,20}@(163|126|qq)\\.com\", \"test@126.com\")\n",
    "ret.group()"
   ]
  },
  {
   "cell_type": "markdown",
   "metadata": {},
   "source": [
    "示例2：\\\n",
    "\n",
    "需求：匹配出`<html>hh</html>`"
   ]
  },
  {
   "cell_type": "code",
   "execution_count": 19,
   "metadata": {},
   "outputs": [
    {
     "data": {
      "text/plain": [
       "'<html>hh</html>'"
      ]
     },
     "execution_count": 19,
     "metadata": {},
     "output_type": "execute_result"
    }
   ],
   "source": [
    "# 通过引用分组中匹配到的数据即可，但是要注意是元字符串，即类似 r\"\"这种格式\n",
    "ret = re.match(r\"<([a-zA-Z]*)>\\w*</\\1>\", \"<html>hh</html>\")\n",
    "ret.group()"
   ]
  },
  {
   "cell_type": "markdown",
   "metadata": {},
   "source": [
    "示例3：\\number\n",
    "\n",
    "需求：匹配出`<html><h1>www.baidu.cn</h1></html>`"
   ]
  },
  {
   "cell_type": "code",
   "execution_count": 21,
   "metadata": {},
   "outputs": [
    {
     "data": {
      "text/plain": [
       "'<html><h1>www.baidu.cn</h1></html>'"
      ]
     },
     "execution_count": 21,
     "metadata": {},
     "output_type": "execute_result"
    }
   ],
   "source": [
    "ret = re.match(r\"<(\\w*)><(\\w*)>.*</\\2></\\1>\", \"<html><h1>www.baidu.cn</h1></html>\")\n",
    "ret.group()"
   ]
  },
  {
   "cell_type": "markdown",
   "metadata": {},
   "source": [
    "示例4：(?P<name>) (?P=name)\n",
    "\n",
    "需求：匹配出`<html><h1>www.baidu.cn</h1></html>`"
   ]
  },
  {
   "cell_type": "code",
   "execution_count": 22,
   "metadata": {},
   "outputs": [
    {
     "data": {
      "text/plain": [
       "'<html><h1>www.itcast.cn</h1></html>'"
      ]
     },
     "execution_count": 22,
     "metadata": {},
     "output_type": "execute_result"
    }
   ],
   "source": [
    "ret = re.match(r\"<(?P<name1>\\w*)><(?P<name2>\\w*)>.*</(?P=name2)></(?P=name1)>\", \"<html><h1>www.itcast.cn</h1></html>\")\n",
    "ret.group()"
   ]
  },
  {
   "cell_type": "markdown",
   "metadata": {},
   "source": [
    ">### re模块的高级用法"
   ]
  },
  {
   "cell_type": "markdown",
   "metadata": {},
   "source": [
    "**search**\n",
    "\n",
    "需求：匹配出文章阅读的次数"
   ]
  },
  {
   "cell_type": "code",
   "execution_count": 23,
   "metadata": {},
   "outputs": [
    {
     "data": {
      "text/plain": [
       "'9999'"
      ]
     },
     "execution_count": 23,
     "metadata": {},
     "output_type": "execute_result"
    }
   ],
   "source": [
    "ret = re.search(r\"\\d+\", \"阅读次数为 9999\")\n",
    "ret.group()"
   ]
  },
  {
   "cell_type": "markdown",
   "metadata": {},
   "source": [
    "**findall**\n",
    "\n",
    "需求：统计出python、c、c++相应文章阅读的次数"
   ]
  },
  {
   "cell_type": "code",
   "execution_count": 26,
   "metadata": {},
   "outputs": [
    {
     "name": "stdout",
     "output_type": "stream",
     "text": [
      "['9999', '7890', '12345']\n"
     ]
    }
   ],
   "source": [
    "ret = re.findall(r\"\\d+\", \"python = 9999, c = 7890, c++ = 12345\")\n",
    "print (ret)"
   ]
  },
  {
   "cell_type": "markdown",
   "metadata": {},
   "source": [
    "**sub 将匹配到的数据进行替换**\n",
    "\n",
    "需求：将匹配到的阅读次数加1\n",
    "\n",
    "方法1："
   ]
  },
  {
   "cell_type": "code",
   "execution_count": 28,
   "metadata": {},
   "outputs": [
    {
     "name": "stdout",
     "output_type": "stream",
     "text": [
      "python = 998\n"
     ]
    }
   ],
   "source": [
    "ret = re.sub(r\"\\d+\", '998', \"python = 997\")\n",
    "print (ret)"
   ]
  },
  {
   "cell_type": "markdown",
   "metadata": {},
   "source": [
    "方法2："
   ]
  },
  {
   "cell_type": "code",
   "execution_count": 30,
   "metadata": {},
   "outputs": [
    {
     "name": "stdout",
     "output_type": "stream",
     "text": [
      "python = 998\n"
     ]
    }
   ],
   "source": [
    "def add(temp):\n",
    "    strNum = temp.group()\n",
    "    num = int(strNum) + 1\n",
    "    return str(num)\n",
    "\n",
    "ret = re.sub(r\"\\d+\", add, \"python = 997\")\n",
    "print (ret)"
   ]
  },
  {
   "cell_type": "markdown",
   "metadata": {},
   "source": [
    "**split 根据匹配进行切割字符串，并返回一个列表**\n",
    "\n",
    "需求：切割字符串“info:xiaoZhang 33 shandong”"
   ]
  },
  {
   "cell_type": "code",
   "execution_count": 32,
   "metadata": {},
   "outputs": [
    {
     "name": "stdout",
     "output_type": "stream",
     "text": [
      "['info', 'xiaoZhang', '33', 'shandong']\n"
     ]
    }
   ],
   "source": [
    "ret = re.split(r\":| \",\"info:xiaoZhang 33 shandong\")\n",
    "print (ret)"
   ]
  },
  {
   "cell_type": "markdown",
   "metadata": {},
   "source": [
    ">### 贪婪与非贪婪匹配\n",
    "\n",
    "Python里数量词默认是贪婪的（在少数语言里也可能是默认非贪婪），总是尝试匹配尽可能多的字符；\n",
    "\n",
    "非贪婪则相反，总是尝试匹配尽可能少的字符。\n",
    "\n",
    "在\"*\",\"?\",\"+\",\"{m,n}\"后面加上？，使贪婪变成非贪婪。"
   ]
  },
  {
   "cell_type": "code",
   "execution_count": 41,
   "metadata": {},
   "outputs": [
    {
     "data": {
      "text/plain": [
       "'234-235-22-423'"
      ]
     },
     "execution_count": 41,
     "metadata": {},
     "output_type": "execute_result"
    }
   ],
   "source": [
    "s=\"This is a number 234-235-22-423\"\n",
    "r=re.match(\".+?(\\d+-\\d+-\\d+-\\d+)\",s)\n",
    "r.group(1)"
   ]
  },
  {
   "cell_type": "code",
   "execution_count": 39,
   "metadata": {},
   "outputs": [
    {
     "data": {
      "text/plain": [
       "'2'"
      ]
     },
     "execution_count": 39,
     "metadata": {},
     "output_type": "execute_result"
    }
   ],
   "source": [
    "re.match(r\"aa(\\d+?)\",\"aa2343ddd\").group(1)"
   ]
  },
  {
   "cell_type": "code",
   "execution_count": null,
   "metadata": {
    "collapsed": true
   },
   "outputs": [],
   "source": []
  }
 ],
 "metadata": {
  "kernelspec": {
   "display_name": "Python 3",
   "language": "python",
   "name": "python3"
  },
  "language_info": {
   "codemirror_mode": {
    "name": "ipython",
    "version": 3
   },
   "file_extension": ".py",
   "mimetype": "text/x-python",
   "name": "python",
   "nbconvert_exporter": "python",
   "pygments_lexer": "ipython3",
   "version": "3.6.1"
  }
 },
 "nbformat": 4,
 "nbformat_minor": 2
}
