{
 "cells": [
  {
   "cell_type": "markdown",
   "metadata": {},
   "source": [
    ">### 正则表达式概述\n",
    "\n",
    "正则表达式，又称正规表示式、正规表示法、正规表达式、规则表达式、常规表示法（英语：Regular Expression，在代码中常简写为regex、regexp或RE），是计算机科学的一个概念。正则表达式使用单个字符串来描述、匹配一系列匹配某个句法规则的字符串。在很多文本编辑器里，正则表达式通常被用来检索、替换那些匹配某个模式的文本。\n",
    "\n",
    "Regular Expression的“Regular”一般被译为“正则”、“正规”、“常规”。此处的“Regular”即是“规则”、“规律”的意思，Regular Expression即“描述某种规则的表达式”之意。"
   ]
  },
  {
   "cell_type": "markdown",
   "metadata": {},
   "source": [
    ">### re模块操作\n",
    "\n",
    "在Python中需要通过正则表达式对字符串进行匹配的时候，可以使用一个模块，名字为re\n",
    "\n",
    "**1.re模块的使用过程**"
   ]
  },
  {
   "cell_type": "code",
   "execution_count": null,
   "metadata": {
    "collapsed": true
   },
   "outputs": [],
   "source": [
    "#coding=utf-8\n",
    "\n",
    "# 导入re模块\n",
    "import re\n",
    "\n",
    "# 使用match方法进行匹配操作\n",
    "result = re.match(正则表达式,要匹配的字符串)\n",
    "\n",
    "# 如果上一步匹配到数据的话，可以使用group方法来提取数据\n",
    "result.group()"
   ]
  },
  {
   "cell_type": "markdown",
   "metadata": {},
   "source": [
    "re.match是用来进行正则匹配检查的方法，若字符串匹配正则表达式，则match方法返回匹配对象（Match Object），否则返回None（注意不是空字符串\"\"）。\n",
    "\n",
    "匹配对象Macth Object具有group方法，用来返回字符串的匹配部分。"
   ]
  },
  {
   "cell_type": "markdown",
   "metadata": {},
   "source": [
    "**2.re模块示例(匹配以itcast开头的语句)**"
   ]
  },
  {
   "cell_type": "code",
   "execution_count": 2,
   "metadata": {},
   "outputs": [
    {
     "data": {
      "text/plain": [
       "'itcast'"
      ]
     },
     "execution_count": 2,
     "metadata": {},
     "output_type": "execute_result"
    }
   ],
   "source": [
    "#coding=utf-8\n",
    "\n",
    "import re\n",
    "\n",
    "result = re.match(\"itcast\",\"itcast.cn\")\n",
    "\n",
    "result.group()"
   ]
  },
  {
   "cell_type": "markdown",
   "metadata": {},
   "source": [
    ">### 表示字符\n",
    "\n",
    "**正则表达式的单字符匹配**"
   ]
  },
  {
   "cell_type": "markdown",
   "metadata": {},
   "source": [
    "|字符 |功能|\n",
    "|---|---|\n",
    "|.\t|匹配任意1个字符（除了\\n）|\n",
    "|[ ]\t|匹配[ ]中列举的字符|\n",
    "|\\d\t|匹配数字，即0-9|\n",
    "|\\D\t|匹配非数字，即不是数字|\n",
    "|\\s\t|匹配空白，即 空格，tab键|\n",
    "|\\S\t|匹配非空白|\n",
    "|\\w\t|匹配单词字符，即a-z、A-Z、0-9、_|\n",
    "|\\W\t|匹配非单词字符|\n",
    "|^ |取反|"
   ]
  },
  {
   "cell_type": "code",
   "execution_count": 9,
   "metadata": {},
   "outputs": [
    {
     "data": {
      "text/plain": [
       "'a'"
      ]
     },
     "execution_count": 9,
     "metadata": {},
     "output_type": "execute_result"
    }
   ],
   "source": [
    "#匹配任意字符\n",
    "ret = re.match(\".\",\"a\")\n",
    "ret.group()"
   ]
  },
  {
   "cell_type": "code",
   "execution_count": 17,
   "metadata": {},
   "outputs": [
    {
     "data": {
      "text/plain": [
       "'1H'"
      ]
     },
     "execution_count": 17,
     "metadata": {},
     "output_type": "execute_result"
    }
   ],
   "source": [
    "# 匹配0到9\n",
    "ret = re.match(\"1[A-Z0-9]\",\"1Hello Python\")\n",
    "ret.group()"
   ]
  },
  {
   "cell_type": "markdown",
   "metadata": {},
   "source": [
    "**Python中字符串前面加上 r 表示原生字符串**\n",
    "\n",
    "与大多数编程语言相同，正则表达式里使用\"\\\"作为转义字符，这就可能造成反斜杠困扰。假如你需要匹配文本中的字符\"\\\"，那么使用编程语言表示的正则表达式里将需要4个反斜杠\"\\\\\"：前两个和后两个分别用于在编程语言里转义成反斜杠，转换成两个反斜杠后再在正则表达式里转义成一个反斜杠。\n",
    "\n",
    "Python里的原生字符串很好地解决了这个问题，有了原始字符串，再也不用担心是不是漏写了反斜杠，写出来的表达式也更直观。"
   ]
  },
  {
   "cell_type": "code",
   "execution_count": 16,
   "metadata": {},
   "outputs": [
    {
     "name": "stdout",
     "output_type": "stream",
     "text": [
      "c:\\a\n"
     ]
    }
   ],
   "source": [
    "mm = \"c:\\\\a\\\\b\\\\c\"\n",
    "ret = re.match(r\"c:\\\\a\",mm).group()\n",
    "print(ret)"
   ]
  },
  {
   "cell_type": "markdown",
   "metadata": {},
   "source": [
    ">### 表示数量\n",
    "\n",
    "**匹配多个字符的相关格式**\n",
    "\n",
    "|字符\t|功能|\n",
    "|----|----|\n",
    "|*\t|匹配前一个字符出现0次或者无限次，即可有可无|\n",
    "|+\t|匹配前一个字符出现1次或者无限次，即至少有1次|\n",
    "|?\t|匹配前一个字符出现1次或者0次，即要么有1次，要么没有|\n",
    "|{m}\t|匹配前一个字符出现m次|\n",
    "|{m,}\t|匹配前一个字符至少出现m次|\n",
    "|{m,n}\t|匹配前一个字符出现从m到n次|"
   ]
  },
  {
   "cell_type": "markdown",
   "metadata": {},
   "source": [
    "需求：匹配出，一个字符串第一个字母为大小字符，后面都是小写字母并且这些小写字母可有可无"
   ]
  },
  {
   "cell_type": "code",
   "execution_count": 29,
   "metadata": {},
   "outputs": [
    {
     "data": {
      "text/plain": [
       "'Aabcdef'"
      ]
     },
     "execution_count": 29,
     "metadata": {},
     "output_type": "execute_result"
    }
   ],
   "source": [
    "ret = re.match(\"[^a-z][a-z]*\",\"Aabcdef\")\n",
    "ret.group()"
   ]
  },
  {
   "cell_type": "markdown",
   "metadata": {},
   "source": [
    "需求：匹配出，变量名是否有效"
   ]
  },
  {
   "cell_type": "code",
   "execution_count": 21,
   "metadata": {},
   "outputs": [
    {
     "data": {
      "text/plain": [
       "'name1'"
      ]
     },
     "execution_count": 21,
     "metadata": {},
     "output_type": "execute_result"
    }
   ],
   "source": [
    "ret = re.match(\"[a-zA-Z_]+[\\w_]*\",\"name1\")\n",
    "ret.group()"
   ]
  },
  {
   "cell_type": "markdown",
   "metadata": {},
   "source": [
    "示例：{m}"
   ]
  },
  {
   "cell_type": "code",
   "execution_count": 26,
   "metadata": {},
   "outputs": [
    {
     "data": {
      "text/plain": [
       "'1234abc'"
      ]
     },
     "execution_count": 26,
     "metadata": {},
     "output_type": "execute_result"
    }
   ],
   "source": [
    "re.match(\"\\d{4}[a-z]*\",\"1234abc\").group()"
   ]
  },
  {
   "cell_type": "markdown",
   "metadata": {},
   "source": [
    "需求：匹配出，8到20位的密码，可以是大小写英文字母、数字、下划线"
   ]
  },
  {
   "cell_type": "code",
   "execution_count": 32,
   "metadata": {},
   "outputs": [
    {
     "data": {
      "text/plain": [
       "'1ad12f23s34455ff66'"
      ]
     },
     "execution_count": 32,
     "metadata": {},
     "output_type": "execute_result"
    }
   ],
   "source": [
    "#[a-zA-Z0-9_]=\\w\n",
    "ret = re.match(\"[a-zA-Z0-9_]{8,20}\",\"1ad12f23s34455ff66\")\n",
    "ret.group()"
   ]
  },
  {
   "cell_type": "code",
   "execution_count": null,
   "metadata": {
    "collapsed": true
   },
   "outputs": [],
   "source": []
  }
 ],
 "metadata": {
  "kernelspec": {
   "display_name": "Python 3",
   "language": "python",
   "name": "python3"
  },
  "language_info": {
   "codemirror_mode": {
    "name": "ipython",
    "version": 3
   },
   "file_extension": ".py",
   "mimetype": "text/x-python",
   "name": "python",
   "nbconvert_exporter": "python",
   "pygments_lexer": "ipython3",
   "version": "3.6.1"
  }
 },
 "nbformat": 4,
 "nbformat_minor": 2
}
