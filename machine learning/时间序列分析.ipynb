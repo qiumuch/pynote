{
 "cells": [
  {
   "cell_type": "markdown",
   "metadata": {},
   "source": [
    ">### 时间序列"
   ]
  },
  {
   "cell_type": "code",
   "execution_count": 1,
   "metadata": {},
   "outputs": [
    {
     "data": {
      "text/plain": [
       "datetime.datetime(2017, 8, 10, 12, 22, 37, 972793)"
      ]
     },
     "execution_count": 1,
     "metadata": {},
     "output_type": "execute_result"
    }
   ],
   "source": [
    "#工具\n",
    "from datetime import datetime\n",
    "now = datetime.now()\n",
    "\n",
    "now"
   ]
  },
  {
   "cell_type": "code",
   "execution_count": 2,
   "metadata": {},
   "outputs": [
    {
     "data": {
      "text/plain": [
       "(2017, 8, 10)"
      ]
     },
     "execution_count": 2,
     "metadata": {},
     "output_type": "execute_result"
    }
   ],
   "source": [
    "now.year,now.month,now.day"
   ]
  },
  {
   "cell_type": "code",
   "execution_count": 3,
   "metadata": {},
   "outputs": [
    {
     "data": {
      "text/plain": [
       "datetime.timedelta(926, 56700)"
      ]
     },
     "execution_count": 3,
     "metadata": {},
     "output_type": "execute_result"
    }
   ],
   "source": [
    "datetime(2011,1,7) - datetime(2008,6,24,8,15)"
   ]
  },
  {
   "cell_type": "markdown",
   "metadata": {},
   "source": []
  },
  {
   "cell_type": "code",
   "execution_count": 5,
   "metadata": {},
   "outputs": [
    {
     "data": {
      "text/plain": [
       "datetime.datetime(2011, 1, 19, 0, 0)"
      ]
     },
     "execution_count": 5,
     "metadata": {},
     "output_type": "execute_result"
    }
   ],
   "source": [
    "from datetime import timedelta\n",
    "\n",
    "start = datetime(2011,1,7)\n",
    "start+timedelta(12)"
   ]
  },
  {
   "cell_type": "code",
   "execution_count": null,
   "metadata": {
    "collapsed": true
   },
   "outputs": [],
   "source": []
  },
  {
   "cell_type": "markdown",
   "metadata": {},
   "source": [
    "**datetime模块中的数据类型**\n",
    "\n",
    "|类型 |说明|\n",
    "|----|----||\n",
    "|date |以公历形式存储日历日期（年、月、日）|\n",
    "|time |将时间存储为时、分、秒、毫秒|\n",
    "|datetime |存储日期和时间|\n",
    "|timedelta |表示两个datetime值之间的差（日、秒、毫秒）|"
   ]
  },
  {
   "cell_type": "markdown",
   "metadata": {},
   "source": [
    "**时间转换：**将字符型的使劲按格式数据，转换成为时间型数据的过程\n",
    "\n",
    "* datetime = pandas.to_datetime(dateString,format)\n",
    "\n",
    "**时间格式化：**将时间型数据，按照指定格式，转为字符型数据\n",
    "\n",
    "* dateTimeFormat = datetime.dt.strftime(format)\n",
    "\n",
    "|属性 |注释|\n",
    "|----|----|\n",
    "|%Y |代表年份|\n",
    "|%m |代表月份|\n",
    "|%d |代表日期|\n",
    "|%H |代表小时|\n",
    "|%M |代表分钟|\n",
    "|%S |代表秒|"
   ]
  },
  {
   "cell_type": "markdown",
   "metadata": {},
   "source": [
    "**时间属性抽取：**从日期格式里面，抽取出需要的部分属性\n",
    "\n",
    "* datetime.dt.property\n",
    "\n",
    "|属性 |注释|\n",
    "|----|----|\n",
    "|second |1-60:秒，从1开始，到60|\n",
    "|minute |1-60：分钟，从1开始，到60|\n",
    "|hour |1-24：小时，从1开始，到24|\n",
    "|day |1-31：从1开始，最大31|\n",
    "|month |1-12：月份，从1开始，到12|\n",
    "|year |年份|\n",
    "|weekday |1-7：从1开时，最大为7|"
   ]
  },
  {
   "cell_type": "markdown",
   "metadata": {},
   "source": [
    "**时间抽取：**根据一定的条件，对时间格式的数据进行抽取\n",
    "\n",
    "* 根据索引进行抽取 DataFrame.loc[start:end]\n",
    "* 根据时间列进行抽取 DataFrame[condition]"
   ]
  },
  {
   "cell_type": "markdown",
   "metadata": {},
   "source": [
    "**字段抽取：**根据一致列数据的开始和结束位置，抽取出新的列\n",
    "\n",
    "* slice(start,stop)"
   ]
  },
  {
   "cell_type": "markdown",
   "metadata": {},
   "source": [
    "**字段合并**：+号"
   ]
  },
  {
   "cell_type": "code",
   "execution_count": null,
   "metadata": {
    "collapsed": true
   },
   "outputs": [],
   "source": [
    "#字段抽取与字段合并\n",
    "Y = timeana['date'].str.slice(0,4)\n",
    "M = timeana['date'].str.slice(4,6)\n",
    "D = timeana['date'].str.slice(6,8)\n",
    "\n",
    "timeana['date'] = Y +'/'+ M +'/'+ D\n",
    "timeana"
   ]
  }
 ],
 "metadata": {
  "kernelspec": {
   "display_name": "Python 3",
   "language": "python",
   "name": "python3"
  },
  "language_info": {
   "codemirror_mode": {
    "name": "ipython",
    "version": 3
   },
   "file_extension": ".py",
   "mimetype": "text/x-python",
   "name": "python",
   "nbconvert_exporter": "python",
   "pygments_lexer": "ipython3",
   "version": "3.6.1"
  }
 },
 "nbformat": 4,
 "nbformat_minor": 2
}
