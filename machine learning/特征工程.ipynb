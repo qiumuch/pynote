{
 "cells": [
  {
   "cell_type": "markdown",
   "metadata": {},
   "source": [
    ">### 特征工程\n",
    "\n",
    "**数据（Data）和特征（Feature）**\n",
    "\n",
    "行为观测样本，列为特征变量"
   ]
  },
  {
   "cell_type": "markdown",
   "metadata": {},
   "source": [
    "![ddddddddd](fjlfjsfjfjkfjfjdjf)"
   ]
  },
  {
   "cell_type": "markdown",
   "metadata": {},
   "source": [
    "**特征工程（Feature Engineering）**\n",
    "\n",
    "其本质是一项工程活动，它的目的是最大限度地从原始数据中提取特征以供算法和模型使用。\n",
    "数据&特征决定了机器学习的上限，而模型和算法只是逼进这个上限而已\n",
    "\n",
    "**特征工程重要性**\n",
    "\n",
    "* 特征越好，灵活性越强\n",
    "* 特征越好，模型越简单\n",
    "* 特征越好，性能越出色"
   ]
  },
  {
   "cell_type": "markdown",
   "metadata": {},
   "source": [
    "**特征工程包括**\n",
    "\n",
    "* 数据处理\n",
    "* 特征选择\n",
    "* 维度压缩"
   ]
  },
  {
   "cell_type": "markdown",
   "metadata": {},
   "source": [
    ">### 数据处理"
   ]
  },
  {
   "cell_type": "markdown",
   "metadata": {},
   "source": [
    "**量纲不一**：量纲就是单位，特征的单位不一致，不能放在一起比较。（票房数据与评分数据，需要进行0-1标准化）\n",
    "\n",
    "0-1标准化-----对原始数据进行线性变换，将特征值映射成区间为[0,1]的标准值中\n",
    "\n",
    "        标准化值=（原数据-最小值）/（最大值-最小值）\n",
    "\n",
    "Z标准化-----基于特征值的均值（mean）和标准差（standard deviation）进行数据的标准化。标准化后的变量值围绕0上下波动，大于0说明高于平均水平，小于0说明低于平均水平\n",
    "        \n",
    "        标准化数据=（原数据-均值）/标准差\n",
    "        \n",
    "Normalizer归一化-----将每个样本缩放的单位范数（每个样本的范数为1）"
   ]
  },
  {
   "cell_type": "markdown",
   "metadata": {},
   "source": [
    "![eeeeeeee](jffdkjsfkdfjsfk)"
   ]
  },
  {
   "cell_type": "code",
   "execution_count": 1,
   "metadata": {
    "collapsed": true
   },
   "outputs": [],
   "source": [
    "#0-1标准化\n",
    "import pandas \n",
    "\n",
    "data =pandas.read_csv('D:\\\\PDM\\\\6.1\\\\data1.csv')\n",
    "\n",
    "from sklearn.preprocessing import MinMaxScaler"
   ]
  },
  {
   "cell_type": "code",
   "execution_count": 15,
   "metadata": {},
   "outputs": [
    {
     "data": {
      "text/plain": [
       "array([ 6.6,  7. ,  4.2,  7.7,  9.1])"
      ]
     },
     "execution_count": 15,
     "metadata": {},
     "output_type": "execute_result"
    }
   ],
   "source": [
    "import numpy as np\n",
    "np.array(data['豆瓣评分'])"
   ]
  },
  {
   "cell_type": "code",
   "execution_count": 21,
   "metadata": {
    "scrolled": true
   },
   "outputs": [
    {
     "data": {
      "text/html": [
       "<div>\n",
       "<style>\n",
       "    .dataframe thead tr:only-child th {\n",
       "        text-align: right;\n",
       "    }\n",
       "\n",
       "    .dataframe thead th {\n",
       "        text-align: left;\n",
       "    }\n",
       "\n",
       "    .dataframe tbody tr th {\n",
       "        vertical-align: top;\n",
       "    }\n",
       "</style>\n",
       "<table border=\"1\" class=\"dataframe\">\n",
       "  <thead>\n",
       "    <tr style=\"text-align: right;\">\n",
       "      <th></th>\n",
       "      <th>电影名称</th>\n",
       "      <th>累计票房</th>\n",
       "      <th>豆瓣评分</th>\n",
       "      <th>标准化累计票房</th>\n",
       "      <th>标准化豆瓣评分</th>\n",
       "    </tr>\n",
       "  </thead>\n",
       "  <tbody>\n",
       "    <tr>\n",
       "      <th>0</th>\n",
       "      <td>变形金刚4：绝迹重生</td>\n",
       "      <td>4742.92</td>\n",
       "      <td>6.6</td>\n",
       "      <td>1.000000</td>\n",
       "      <td>0.489796</td>\n",
       "    </tr>\n",
       "    <tr>\n",
       "      <th>1</th>\n",
       "      <td>心花路放</td>\n",
       "      <td>3398.00</td>\n",
       "      <td>7.0</td>\n",
       "      <td>0.496835</td>\n",
       "      <td>0.571429</td>\n",
       "    </tr>\n",
       "    <tr>\n",
       "      <th>2</th>\n",
       "      <td>西游记之大闹天宫</td>\n",
       "      <td>2491.90</td>\n",
       "      <td>4.2</td>\n",
       "      <td>0.157842</td>\n",
       "      <td>0.000000</td>\n",
       "    </tr>\n",
       "    <tr>\n",
       "      <th>3</th>\n",
       "      <td>智取威虎山3D</td>\n",
       "      <td>2149.00</td>\n",
       "      <td>7.7</td>\n",
       "      <td>0.029556</td>\n",
       "      <td>0.714286</td>\n",
       "    </tr>\n",
       "    <tr>\n",
       "      <th>4</th>\n",
       "      <td>星际穿越</td>\n",
       "      <td>2070.00</td>\n",
       "      <td>9.1</td>\n",
       "      <td>0.000000</td>\n",
       "      <td>1.000000</td>\n",
       "    </tr>\n",
       "  </tbody>\n",
       "</table>\n",
       "</div>"
      ],
      "text/plain": [
       "         电影名称     累计票房  豆瓣评分   标准化累计票房   标准化豆瓣评分\n",
       "0  变形金刚4：绝迹重生  4742.92   6.6  1.000000  0.489796\n",
       "1        心花路放  3398.00   7.0  0.496835  0.571429\n",
       "2    西游记之大闹天宫  2491.90   4.2  0.157842  0.000000\n",
       "3     智取威虎山3D  2149.00   7.7  0.029556  0.714286\n",
       "4        星际穿越  2070.00   9.1  0.000000  1.000000"
      ]
     },
     "execution_count": 21,
     "metadata": {},
     "output_type": "execute_result"
    }
   ],
   "source": [
    "scaler = MinMaxScaler()\n",
    "data['标准化累计票房'] = scaler.fit_transform(data[['累计票房']])\n",
    "data['标准化豆瓣评分'] = scaler.fit_transform(data[['豆瓣评分']])\n",
    "data"
   ]
  },
  {
   "cell_type": "code",
   "execution_count": 22,
   "metadata": {},
   "outputs": [
    {
     "data": {
      "text/html": [
       "<div>\n",
       "<style>\n",
       "    .dataframe thead tr:only-child th {\n",
       "        text-align: right;\n",
       "    }\n",
       "\n",
       "    .dataframe thead th {\n",
       "        text-align: left;\n",
       "    }\n",
       "\n",
       "    .dataframe tbody tr th {\n",
       "        vertical-align: top;\n",
       "    }\n",
       "</style>\n",
       "<table border=\"1\" class=\"dataframe\">\n",
       "  <thead>\n",
       "    <tr style=\"text-align: right;\">\n",
       "      <th></th>\n",
       "      <th>电影名称</th>\n",
       "      <th>累计票房</th>\n",
       "      <th>豆瓣评分</th>\n",
       "      <th>标准化累计票房</th>\n",
       "      <th>标准化豆瓣评分</th>\n",
       "    </tr>\n",
       "  </thead>\n",
       "  <tbody>\n",
       "    <tr>\n",
       "      <th>0</th>\n",
       "      <td>变形金刚4：绝迹重生</td>\n",
       "      <td>4742.92</td>\n",
       "      <td>6.6</td>\n",
       "      <td>1.765675</td>\n",
       "      <td>-0.199471</td>\n",
       "    </tr>\n",
       "    <tr>\n",
       "      <th>1</th>\n",
       "      <td>心花路放</td>\n",
       "      <td>3398.00</td>\n",
       "      <td>7.0</td>\n",
       "      <td>0.425976</td>\n",
       "      <td>0.049868</td>\n",
       "    </tr>\n",
       "    <tr>\n",
       "      <th>2</th>\n",
       "      <td>西游记之大闹天宫</td>\n",
       "      <td>2491.90</td>\n",
       "      <td>4.2</td>\n",
       "      <td>-0.476607</td>\n",
       "      <td>-1.695502</td>\n",
       "    </tr>\n",
       "    <tr>\n",
       "      <th>3</th>\n",
       "      <td>智取威虎山3D</td>\n",
       "      <td>2149.00</td>\n",
       "      <td>7.7</td>\n",
       "      <td>-0.818175</td>\n",
       "      <td>0.486210</td>\n",
       "    </tr>\n",
       "    <tr>\n",
       "      <th>4</th>\n",
       "      <td>星际穿越</td>\n",
       "      <td>2070.00</td>\n",
       "      <td>9.1</td>\n",
       "      <td>-0.896869</td>\n",
       "      <td>1.358895</td>\n",
       "    </tr>\n",
       "  </tbody>\n",
       "</table>\n",
       "</div>"
      ],
      "text/plain": [
       "         电影名称     累计票房  豆瓣评分   标准化累计票房   标准化豆瓣评分\n",
       "0  变形金刚4：绝迹重生  4742.92   6.6  1.765675 -0.199471\n",
       "1        心花路放  3398.00   7.0  0.425976  0.049868\n",
       "2    西游记之大闹天宫  2491.90   4.2 -0.476607 -1.695502\n",
       "3     智取威虎山3D  2149.00   7.7 -0.818175  0.486210\n",
       "4        星际穿越  2070.00   9.1 -0.896869  1.358895"
      ]
     },
     "execution_count": 22,
     "metadata": {},
     "output_type": "execute_result"
    }
   ],
   "source": [
    "#Z-Score标准化\n",
    "from sklearn.preprocessing import scale\n",
    "\n",
    "data['标准化累计票房'] = scale(data['累计票房'])\n",
    "data['标准化豆瓣评分'] = scale(data['豆瓣评分'])\n",
    "data"
   ]
  },
  {
   "cell_type": "code",
   "execution_count": 27,
   "metadata": {
    "scrolled": true
   },
   "outputs": [
    {
     "data": {
      "text/html": [
       "<div>\n",
       "<style>\n",
       "    .dataframe thead tr:only-child th {\n",
       "        text-align: right;\n",
       "    }\n",
       "\n",
       "    .dataframe thead th {\n",
       "        text-align: left;\n",
       "    }\n",
       "\n",
       "    .dataframe tbody tr th {\n",
       "        vertical-align: top;\n",
       "    }\n",
       "</style>\n",
       "<table border=\"1\" class=\"dataframe\">\n",
       "  <thead>\n",
       "    <tr style=\"text-align: right;\">\n",
       "      <th></th>\n",
       "      <th>电影名称</th>\n",
       "      <th>累计票房</th>\n",
       "      <th>豆瓣评分</th>\n",
       "      <th>标准化累计票房</th>\n",
       "      <th>标准化豆瓣评分</th>\n",
       "      <th>归一化累计票房</th>\n",
       "      <th>归一化豆瓣评分</th>\n",
       "    </tr>\n",
       "  </thead>\n",
       "  <tbody>\n",
       "    <tr>\n",
       "      <th>0</th>\n",
       "      <td>变形金刚4：绝迹重生</td>\n",
       "      <td>4742.92</td>\n",
       "      <td>6.6</td>\n",
       "      <td>1.765675</td>\n",
       "      <td>-0.199471</td>\n",
       "      <td>1.0</td>\n",
       "      <td>1.0</td>\n",
       "    </tr>\n",
       "    <tr>\n",
       "      <th>1</th>\n",
       "      <td>心花路放</td>\n",
       "      <td>3398.00</td>\n",
       "      <td>7.0</td>\n",
       "      <td>0.425976</td>\n",
       "      <td>0.049868</td>\n",
       "      <td>1.0</td>\n",
       "      <td>1.0</td>\n",
       "    </tr>\n",
       "    <tr>\n",
       "      <th>2</th>\n",
       "      <td>西游记之大闹天宫</td>\n",
       "      <td>2491.90</td>\n",
       "      <td>4.2</td>\n",
       "      <td>-0.476607</td>\n",
       "      <td>-1.695502</td>\n",
       "      <td>1.0</td>\n",
       "      <td>1.0</td>\n",
       "    </tr>\n",
       "    <tr>\n",
       "      <th>3</th>\n",
       "      <td>智取威虎山3D</td>\n",
       "      <td>2149.00</td>\n",
       "      <td>7.7</td>\n",
       "      <td>-0.818175</td>\n",
       "      <td>0.486210</td>\n",
       "      <td>1.0</td>\n",
       "      <td>1.0</td>\n",
       "    </tr>\n",
       "    <tr>\n",
       "      <th>4</th>\n",
       "      <td>星际穿越</td>\n",
       "      <td>2070.00</td>\n",
       "      <td>9.1</td>\n",
       "      <td>-0.896869</td>\n",
       "      <td>1.358895</td>\n",
       "      <td>1.0</td>\n",
       "      <td>1.0</td>\n",
       "    </tr>\n",
       "  </tbody>\n",
       "</table>\n",
       "</div>"
      ],
      "text/plain": [
       "         电影名称     累计票房  豆瓣评分   标准化累计票房   标准化豆瓣评分  归一化累计票房  归一化豆瓣评分\n",
       "0  变形金刚4：绝迹重生  4742.92   6.6  1.765675 -0.199471      1.0      1.0\n",
       "1        心花路放  3398.00   7.0  0.425976  0.049868      1.0      1.0\n",
       "2    西游记之大闹天宫  2491.90   4.2 -0.476607 -1.695502      1.0      1.0\n",
       "3     智取威虎山3D  2149.00   7.7 -0.818175  0.486210      1.0      1.0\n",
       "4        星际穿越  2070.00   9.1 -0.896869  1.358895      1.0      1.0"
      ]
     },
     "execution_count": 27,
     "metadata": {},
     "output_type": "execute_result"
    }
   ],
   "source": [
    "#Normalizer归一化\n",
    "from sklearn.preprocessing import Normalizer\n",
    "\n",
    "scaler = Normalizer()\n",
    "data['归一化累计票房'] = scaler.fit_transform(data[['累计票房']])\n",
    "data['归一化豆瓣评分'] = scaler.fit_transform(data[['豆瓣评分']])\n",
    "data"
   ]
  },
  {
   "cell_type": "markdown",
   "metadata": {},
   "source": [
    "**虚拟变量**：也叫哑变量和离散特征编码，可用来表示分类变量、非数量因素可能产生的影响"
   ]
  },
  {
   "cell_type": "code",
   "execution_count": 28,
   "metadata": {},
   "outputs": [
    {
     "data": {
      "text/html": [
       "<div>\n",
       "<style>\n",
       "    .dataframe thead tr:only-child th {\n",
       "        text-align: right;\n",
       "    }\n",
       "\n",
       "    .dataframe thead th {\n",
       "        text-align: left;\n",
       "    }\n",
       "\n",
       "    .dataframe tbody tr th {\n",
       "        vertical-align: top;\n",
       "    }\n",
       "</style>\n",
       "<table border=\"1\" class=\"dataframe\">\n",
       "  <thead>\n",
       "    <tr style=\"text-align: right;\">\n",
       "      <th></th>\n",
       "      <th>症状</th>\n",
       "      <th>职业</th>\n",
       "      <th>疾病</th>\n",
       "    </tr>\n",
       "  </thead>\n",
       "  <tbody>\n",
       "    <tr>\n",
       "      <th>0</th>\n",
       "      <td>打喷嚏</td>\n",
       "      <td>护士</td>\n",
       "      <td>感冒</td>\n",
       "    </tr>\n",
       "    <tr>\n",
       "      <th>1</th>\n",
       "      <td>打喷嚏</td>\n",
       "      <td>农夫</td>\n",
       "      <td>过敏</td>\n",
       "    </tr>\n",
       "    <tr>\n",
       "      <th>2</th>\n",
       "      <td>头痛</td>\n",
       "      <td>建筑工人</td>\n",
       "      <td>脑震荡</td>\n",
       "    </tr>\n",
       "    <tr>\n",
       "      <th>3</th>\n",
       "      <td>头痛</td>\n",
       "      <td>建筑工人</td>\n",
       "      <td>感冒</td>\n",
       "    </tr>\n",
       "    <tr>\n",
       "      <th>4</th>\n",
       "      <td>打喷嚏</td>\n",
       "      <td>教师</td>\n",
       "      <td>感冒</td>\n",
       "    </tr>\n",
       "    <tr>\n",
       "      <th>5</th>\n",
       "      <td>头痛</td>\n",
       "      <td>教师</td>\n",
       "      <td>脑震荡</td>\n",
       "    </tr>\n",
       "  </tbody>\n",
       "</table>\n",
       "</div>"
      ],
      "text/plain": [
       "    症状    职业   疾病\n",
       "0  打喷嚏    护士   感冒\n",
       "1  打喷嚏    农夫   过敏\n",
       "2   头痛  建筑工人  脑震荡\n",
       "3   头痛  建筑工人   感冒\n",
       "4  打喷嚏    教师   感冒\n",
       "5   头痛    教师  脑震荡"
      ]
     },
     "execution_count": 28,
     "metadata": {},
     "output_type": "execute_result"
    }
   ],
   "source": [
    "data =pandas.read_csv('D:\\\\PDM\\\\6.1\\\\data2.csv')\n",
    "data"
   ]
  },
  {
   "cell_type": "code",
   "execution_count": 29,
   "metadata": {
    "scrolled": true
   },
   "outputs": [
    {
     "data": {
      "text/html": [
       "<div>\n",
       "<style>\n",
       "    .dataframe thead tr:only-child th {\n",
       "        text-align: right;\n",
       "    }\n",
       "\n",
       "    .dataframe thead th {\n",
       "        text-align: left;\n",
       "    }\n",
       "\n",
       "    .dataframe tbody tr th {\n",
       "        vertical-align: top;\n",
       "    }\n",
       "</style>\n",
       "<table border=\"1\" class=\"dataframe\">\n",
       "  <thead>\n",
       "    <tr style=\"text-align: right;\">\n",
       "      <th></th>\n",
       "      <th>职业</th>\n",
       "      <th>疾病</th>\n",
       "      <th>症状_头痛</th>\n",
       "      <th>症状_打喷嚏</th>\n",
       "    </tr>\n",
       "  </thead>\n",
       "  <tbody>\n",
       "    <tr>\n",
       "      <th>0</th>\n",
       "      <td>护士</td>\n",
       "      <td>感冒</td>\n",
       "      <td>0</td>\n",
       "      <td>1</td>\n",
       "    </tr>\n",
       "    <tr>\n",
       "      <th>1</th>\n",
       "      <td>农夫</td>\n",
       "      <td>过敏</td>\n",
       "      <td>0</td>\n",
       "      <td>1</td>\n",
       "    </tr>\n",
       "    <tr>\n",
       "      <th>2</th>\n",
       "      <td>建筑工人</td>\n",
       "      <td>脑震荡</td>\n",
       "      <td>1</td>\n",
       "      <td>0</td>\n",
       "    </tr>\n",
       "    <tr>\n",
       "      <th>3</th>\n",
       "      <td>建筑工人</td>\n",
       "      <td>感冒</td>\n",
       "      <td>1</td>\n",
       "      <td>0</td>\n",
       "    </tr>\n",
       "    <tr>\n",
       "      <th>4</th>\n",
       "      <td>教师</td>\n",
       "      <td>感冒</td>\n",
       "      <td>0</td>\n",
       "      <td>1</td>\n",
       "    </tr>\n",
       "    <tr>\n",
       "      <th>5</th>\n",
       "      <td>教师</td>\n",
       "      <td>脑震荡</td>\n",
       "      <td>1</td>\n",
       "      <td>0</td>\n",
       "    </tr>\n",
       "  </tbody>\n",
       "</table>\n",
       "</div>"
      ],
      "text/plain": [
       "     职业   疾病  症状_头痛  症状_打喷嚏\n",
       "0    护士   感冒      0       1\n",
       "1    农夫   过敏      0       1\n",
       "2  建筑工人  脑震荡      1       0\n",
       "3  建筑工人   感冒      1       0\n",
       "4    教师   感冒      0       1\n",
       "5    教师  脑震荡      1       0"
      ]
     },
     "execution_count": 29,
     "metadata": {},
     "output_type": "execute_result"
    }
   ],
   "source": [
    "data['症状'] = data['症状'].astype('category')\n",
    "dummiesData = pandas.get_dummies(\n",
    "    data,\n",
    "    columns=['症状'],\n",
    "    prefix=['症状'],\n",
    "    prefix_sep=\"_\"\n",
    ")\n",
    "dummiesData"
   ]
  },
  {
   "cell_type": "code",
   "execution_count": 30,
   "metadata": {
    "scrolled": true
   },
   "outputs": [
    {
     "data": {
      "text/html": [
       "<div>\n",
       "<style>\n",
       "    .dataframe thead tr:only-child th {\n",
       "        text-align: right;\n",
       "    }\n",
       "\n",
       "    .dataframe thead th {\n",
       "        text-align: left;\n",
       "    }\n",
       "\n",
       "    .dataframe tbody tr th {\n",
       "        vertical-align: top;\n",
       "    }\n",
       "</style>\n",
       "<table border=\"1\" class=\"dataframe\">\n",
       "  <thead>\n",
       "    <tr style=\"text-align: right;\">\n",
       "      <th></th>\n",
       "      <th>症状</th>\n",
       "      <th>职业</th>\n",
       "      <th>疾病</th>\n",
       "    </tr>\n",
       "  </thead>\n",
       "  <tbody>\n",
       "    <tr>\n",
       "      <th>0</th>\n",
       "      <td>打喷嚏</td>\n",
       "      <td>农夫</td>\n",
       "      <td>过敏</td>\n",
       "    </tr>\n",
       "  </tbody>\n",
       "</table>\n",
       "</div>"
      ],
      "text/plain": [
       "    症状  职业  疾病\n",
       "0  打喷嚏  农夫  过敏"
      ]
     },
     "execution_count": 30,
     "metadata": {},
     "output_type": "execute_result"
    }
   ],
   "source": [
    "newData = pandas.read_csv('D:\\\\PDM\\\\6.1\\\\data2New.csv')\n",
    "newData"
   ]
  },
  {
   "cell_type": "code",
   "execution_count": 31,
   "metadata": {},
   "outputs": [
    {
     "data": {
      "text/html": [
       "<div>\n",
       "<style>\n",
       "    .dataframe thead tr:only-child th {\n",
       "        text-align: right;\n",
       "    }\n",
       "\n",
       "    .dataframe thead th {\n",
       "        text-align: left;\n",
       "    }\n",
       "\n",
       "    .dataframe tbody tr th {\n",
       "        vertical-align: top;\n",
       "    }\n",
       "</style>\n",
       "<table border=\"1\" class=\"dataframe\">\n",
       "  <thead>\n",
       "    <tr style=\"text-align: right;\">\n",
       "      <th></th>\n",
       "      <th>职业</th>\n",
       "      <th>疾病</th>\n",
       "      <th>症状_打喷嚏</th>\n",
       "    </tr>\n",
       "  </thead>\n",
       "  <tbody>\n",
       "    <tr>\n",
       "      <th>0</th>\n",
       "      <td>农夫</td>\n",
       "      <td>过敏</td>\n",
       "      <td>1</td>\n",
       "    </tr>\n",
       "  </tbody>\n",
       "</table>\n",
       "</div>"
      ],
      "text/plain": [
       "   职业  疾病  症状_打喷嚏\n",
       "0  农夫  过敏       1"
      ]
     },
     "execution_count": 31,
     "metadata": {},
     "output_type": "execute_result"
    }
   ],
   "source": [
    "dummiesNewData = pandas.get_dummies(\n",
    "    newData,\n",
    "    columns=['症状'],\n",
    "    prefix=['症状'],\n",
    "    prefix_sep=\"_\"\n",
    ")\n",
    "dummiesNewData"
   ]
  },
  {
   "cell_type": "code",
   "execution_count": 32,
   "metadata": {},
   "outputs": [
    {
     "data": {
      "text/html": [
       "<div>\n",
       "<style>\n",
       "    .dataframe thead tr:only-child th {\n",
       "        text-align: right;\n",
       "    }\n",
       "\n",
       "    .dataframe thead th {\n",
       "        text-align: left;\n",
       "    }\n",
       "\n",
       "    .dataframe tbody tr th {\n",
       "        vertical-align: top;\n",
       "    }\n",
       "</style>\n",
       "<table border=\"1\" class=\"dataframe\">\n",
       "  <thead>\n",
       "    <tr style=\"text-align: right;\">\n",
       "      <th></th>\n",
       "      <th>症状</th>\n",
       "      <th>职业</th>\n",
       "      <th>疾病</th>\n",
       "    </tr>\n",
       "  </thead>\n",
       "  <tbody>\n",
       "    <tr>\n",
       "      <th>0</th>\n",
       "      <td>打喷嚏</td>\n",
       "      <td>农夫</td>\n",
       "      <td>过敏</td>\n",
       "    </tr>\n",
       "  </tbody>\n",
       "</table>\n",
       "</div>"
      ],
      "text/plain": [
       "    症状  职业  疾病\n",
       "0  打喷嚏  农夫  过敏"
      ]
     },
     "execution_count": 32,
     "metadata": {},
     "output_type": "execute_result"
    }
   ],
   "source": [
    "newData['症状'] = newData['症状'].astype(\n",
    "    'category',\n",
    "    categories=data['症状'].cat.categories\n",
    ")\n",
    "newData"
   ]
  },
  {
   "cell_type": "code",
   "execution_count": 33,
   "metadata": {},
   "outputs": [
    {
     "data": {
      "text/html": [
       "<div>\n",
       "<style>\n",
       "    .dataframe thead tr:only-child th {\n",
       "        text-align: right;\n",
       "    }\n",
       "\n",
       "    .dataframe thead th {\n",
       "        text-align: left;\n",
       "    }\n",
       "\n",
       "    .dataframe tbody tr th {\n",
       "        vertical-align: top;\n",
       "    }\n",
       "</style>\n",
       "<table border=\"1\" class=\"dataframe\">\n",
       "  <thead>\n",
       "    <tr style=\"text-align: right;\">\n",
       "      <th></th>\n",
       "      <th>职业</th>\n",
       "      <th>疾病</th>\n",
       "      <th>症状_头痛</th>\n",
       "      <th>症状_打喷嚏</th>\n",
       "    </tr>\n",
       "  </thead>\n",
       "  <tbody>\n",
       "    <tr>\n",
       "      <th>0</th>\n",
       "      <td>农夫</td>\n",
       "      <td>过敏</td>\n",
       "      <td>0</td>\n",
       "      <td>1</td>\n",
       "    </tr>\n",
       "  </tbody>\n",
       "</table>\n",
       "</div>"
      ],
      "text/plain": [
       "   职业  疾病  症状_头痛  症状_打喷嚏\n",
       "0  农夫  过敏      0       1"
      ]
     },
     "execution_count": 33,
     "metadata": {},
     "output_type": "execute_result"
    }
   ],
   "source": [
    "dummiesNewData = pandas.get_dummies(\n",
    "    newData,\n",
    "    columns=['症状'],\n",
    "    prefix=['症状'],\n",
    "    prefix_sep=\"_\"\n",
    ")\n",
    "dummiesNewData"
   ]
  },
  {
   "cell_type": "markdown",
   "metadata": {},
   "source": [
    "**缺失值**\n",
    "\n",
    "缺失值产生原因\n",
    "\n",
    "* 有些信息暂时无法获取\n",
    "* 有些信息被遗漏或者错误的处理了\n",
    "\n",
    "缺失值处理方法\n",
    "\n",
    "* 数据补齐\n",
    "* 删除确实行\n",
    "* 不处理"
   ]
  },
  {
   "cell_type": "code",
   "execution_count": 34,
   "metadata": {},
   "outputs": [
    {
     "data": {
      "text/html": [
       "<div>\n",
       "<style>\n",
       "    .dataframe thead tr:only-child th {\n",
       "        text-align: right;\n",
       "    }\n",
       "\n",
       "    .dataframe thead th {\n",
       "        text-align: left;\n",
       "    }\n",
       "\n",
       "    .dataframe tbody tr th {\n",
       "        vertical-align: top;\n",
       "    }\n",
       "</style>\n",
       "<table border=\"1\" class=\"dataframe\">\n",
       "  <thead>\n",
       "    <tr style=\"text-align: right;\">\n",
       "      <th></th>\n",
       "      <th>电影名称</th>\n",
       "      <th>累计票房</th>\n",
       "      <th>豆瓣评分</th>\n",
       "    </tr>\n",
       "  </thead>\n",
       "  <tbody>\n",
       "    <tr>\n",
       "      <th>0</th>\n",
       "      <td>变形金刚4：绝迹重生</td>\n",
       "      <td>4742.92</td>\n",
       "      <td>6.6</td>\n",
       "    </tr>\n",
       "    <tr>\n",
       "      <th>1</th>\n",
       "      <td>心花路放</td>\n",
       "      <td>3398.00</td>\n",
       "      <td>7.0</td>\n",
       "    </tr>\n",
       "    <tr>\n",
       "      <th>2</th>\n",
       "      <td>西游记之大闹天宫</td>\n",
       "      <td>2491.90</td>\n",
       "      <td>NaN</td>\n",
       "    </tr>\n",
       "    <tr>\n",
       "      <th>3</th>\n",
       "      <td>智取威虎山3D</td>\n",
       "      <td>NaN</td>\n",
       "      <td>7.7</td>\n",
       "    </tr>\n",
       "    <tr>\n",
       "      <th>4</th>\n",
       "      <td>星际穿越</td>\n",
       "      <td>2070.00</td>\n",
       "      <td>9.1</td>\n",
       "    </tr>\n",
       "  </tbody>\n",
       "</table>\n",
       "</div>"
      ],
      "text/plain": [
       "         电影名称     累计票房  豆瓣评分\n",
       "0  变形金刚4：绝迹重生  4742.92   6.6\n",
       "1        心花路放  3398.00   7.0\n",
       "2    西游记之大闹天宫  2491.90   NaN\n",
       "3     智取威虎山3D      NaN   7.7\n",
       "4        星际穿越  2070.00   9.1"
      ]
     },
     "execution_count": 34,
     "metadata": {},
     "output_type": "execute_result"
    }
   ],
   "source": [
    "data = pandas.read_csv('D:\\\\PDM\\\\6.1\\\\data3.csv')\n",
    "data"
   ]
  },
  {
   "cell_type": "code",
   "execution_count": 37,
   "metadata": {},
   "outputs": [
    {
     "data": {
      "text/plain": [
       "array([[ 4742.92 ],\n",
       "       [ 3398.   ],\n",
       "       [ 2491.9  ],\n",
       "       [ 3175.705],\n",
       "       [ 2070.   ]])"
      ]
     },
     "execution_count": 37,
     "metadata": {},
     "output_type": "execute_result"
    }
   ],
   "source": [
    "from sklearn.preprocessing import Imputer\n",
    "\n",
    "imputer = Imputer(strategy='mean')\n",
    "imputer.fit_transform(data[['累计票房']])"
   ]
  },
  {
   "cell_type": "markdown",
   "metadata": {},
   "source": [
    ">### 特征选择\n"
   ]
  },
  {
   "cell_type": "markdown",
   "metadata": {},
   "source": [
    "**如何选择特征**\n",
    "\n",
    "* 是否发散\n",
    "* 是否相关"
   ]
  },
  {
   "cell_type": "markdown",
   "metadata": {},
   "source": [
    "**方差选择法**：先计算各个特征的方差，根据阈值，选择方差大于阈值的特征。"
   ]
  },
  {
   "cell_type": "code",
   "execution_count": 39,
   "metadata": {},
   "outputs": [
    {
     "data": {
      "text/plain": [
       "array([[  4.74292000e+03,   6.60000000e+00],\n",
       "       [  3.39800000e+03,   7.00000000e+00],\n",
       "       [  2.49190000e+03,   4.20000000e+00],\n",
       "       [  2.14900000e+03,   7.70000000e+00],\n",
       "       [  2.07000000e+03,   9.10000000e+00]])"
      ]
     },
     "execution_count": 39,
     "metadata": {},
     "output_type": "execute_result"
    }
   ],
   "source": [
    "import pandas \n",
    "\n",
    "data = pandas.read_csv('D:\\\\PDM\\\\6.2\\\\data1.csv')\n",
    "\n",
    "from sklearn.feature_selection import VarianceThreshold\n",
    "#方差过滤，threshold最小方差的阈值\n",
    "varianceThreshold = VarianceThreshold(threshold=1)\n",
    "#特征值过滤\n",
    "varianceThreshold.fit_transform(data[['累计票房','豆瓣评分']])\n"
   ]
  },
  {
   "cell_type": "code",
   "execution_count": 42,
   "metadata": {},
   "outputs": [
    {
     "data": {
      "text/plain": [
       "累计票房    1122.391339\n",
       "豆瓣评分       1.793600\n",
       "dtype: float64"
      ]
     },
     "execution_count": 42,
     "metadata": {},
     "output_type": "execute_result"
    }
   ],
   "source": [
    "#方差都大于1，所以都被选择出来了\n",
    "data[['累计票房','豆瓣评分']].std()\n"
   ]
  },
  {
   "cell_type": "code",
   "execution_count": 43,
   "metadata": {},
   "outputs": [
    {
     "data": {
      "text/plain": [
       "array([[ 4742.92],\n",
       "       [ 3398.  ],\n",
       "       [ 2491.9 ],\n",
       "       [ 2149.  ],\n",
       "       [ 2070.  ]])"
      ]
     },
     "execution_count": 43,
     "metadata": {},
     "output_type": "execute_result"
    }
   ],
   "source": [
    "varianceThreshold = VarianceThreshold(threshold=3)\n",
    "varianceThreshold.fit_transform(data[['累计票房','豆瓣评分']])\n"
   ]
  },
  {
   "cell_type": "code",
   "execution_count": 44,
   "metadata": {},
   "outputs": [
    {
     "data": {
      "text/plain": [
       "array([ True, False], dtype=bool)"
      ]
     },
     "execution_count": 44,
     "metadata": {},
     "output_type": "execute_result"
    }
   ],
   "source": [
    "#查看哪列被选择\n",
    "varianceThreshold.get_support()\n"
   ]
  },
  {
   "cell_type": "markdown",
   "metadata": {},
   "source": [
    "**相关系数法**：先计算各个特征对目标值的相关系数，选择更加相关的特征。"
   ]
  },
  {
   "cell_type": "code",
   "execution_count": 50,
   "metadata": {},
   "outputs": [
    {
     "data": {
      "text/html": [
       "<div>\n",
       "<style>\n",
       "    .dataframe thead tr:only-child th {\n",
       "        text-align: right;\n",
       "    }\n",
       "\n",
       "    .dataframe thead th {\n",
       "        text-align: left;\n",
       "    }\n",
       "\n",
       "    .dataframe tbody tr th {\n",
       "        vertical-align: top;\n",
       "    }\n",
       "</style>\n",
       "<table border=\"1\" class=\"dataframe\">\n",
       "  <thead>\n",
       "    <tr style=\"text-align: right;\">\n",
       "      <th></th>\n",
       "      <th>月份</th>\n",
       "      <th>季度</th>\n",
       "      <th>广告费用</th>\n",
       "      <th>客流量</th>\n",
       "    </tr>\n",
       "  </thead>\n",
       "  <tbody>\n",
       "    <tr>\n",
       "      <th>0</th>\n",
       "      <td>201301</td>\n",
       "      <td>1</td>\n",
       "      <td>29.40</td>\n",
       "      <td>13.76</td>\n",
       "    </tr>\n",
       "    <tr>\n",
       "      <th>1</th>\n",
       "      <td>201302</td>\n",
       "      <td>1</td>\n",
       "      <td>25.00</td>\n",
       "      <td>9.70</td>\n",
       "    </tr>\n",
       "    <tr>\n",
       "      <th>2</th>\n",
       "      <td>201303</td>\n",
       "      <td>1</td>\n",
       "      <td>19.50</td>\n",
       "      <td>6.80</td>\n",
       "    </tr>\n",
       "    <tr>\n",
       "      <th>3</th>\n",
       "      <td>201304</td>\n",
       "      <td>2</td>\n",
       "      <td>15.70</td>\n",
       "      <td>6.20</td>\n",
       "    </tr>\n",
       "    <tr>\n",
       "      <th>4</th>\n",
       "      <td>201305</td>\n",
       "      <td>2</td>\n",
       "      <td>9.00</td>\n",
       "      <td>5.00</td>\n",
       "    </tr>\n",
       "    <tr>\n",
       "      <th>5</th>\n",
       "      <td>201306</td>\n",
       "      <td>2</td>\n",
       "      <td>15.50</td>\n",
       "      <td>7.79</td>\n",
       "    </tr>\n",
       "    <tr>\n",
       "      <th>6</th>\n",
       "      <td>201307</td>\n",
       "      <td>3</td>\n",
       "      <td>10.60</td>\n",
       "      <td>5.50</td>\n",
       "    </tr>\n",
       "    <tr>\n",
       "      <th>7</th>\n",
       "      <td>201308</td>\n",
       "      <td>3</td>\n",
       "      <td>15.88</td>\n",
       "      <td>6.80</td>\n",
       "    </tr>\n",
       "    <tr>\n",
       "      <th>8</th>\n",
       "      <td>201309</td>\n",
       "      <td>3</td>\n",
       "      <td>17.00</td>\n",
       "      <td>6.90</td>\n",
       "    </tr>\n",
       "    <tr>\n",
       "      <th>9</th>\n",
       "      <td>201310</td>\n",
       "      <td>4</td>\n",
       "      <td>21.50</td>\n",
       "      <td>9.60</td>\n",
       "    </tr>\n",
       "  </tbody>\n",
       "</table>\n",
       "</div>"
      ],
      "text/plain": [
       "       月份  季度   广告费用    客流量\n",
       "0  201301   1  29.40  13.76\n",
       "1  201302   1  25.00   9.70\n",
       "2  201303   1  19.50   6.80\n",
       "3  201304   2  15.70   6.20\n",
       "4  201305   2   9.00   5.00\n",
       "5  201306   2  15.50   7.79\n",
       "6  201307   3  10.60   5.50\n",
       "7  201308   3  15.88   6.80\n",
       "8  201309   3  17.00   6.90\n",
       "9  201310   4  21.50   9.60"
      ]
     },
     "execution_count": 50,
     "metadata": {},
     "output_type": "execute_result"
    }
   ],
   "source": [
    "data = pandas.read_csv('D:\\\\PDM\\\\6.2\\\\data2.csv')\n",
    "\n",
    "from sklearn.feature_selection import SelectKBest\n",
    "from sklearn.feature_selection import f_regression\n",
    "\n",
    "selectKBest = SelectKBest(\n",
    "    f_regression,k=2\n",
    ")\n",
    "feature = data[['月份','季度','广告费用','客流量']]\n",
    "\n",
    "feature[:10]"
   ]
  },
  {
   "cell_type": "code",
   "execution_count": 51,
   "metadata": {},
   "outputs": [
    {
     "data": {
      "text/plain": [
       "Index(['广告费用', '客流量'], dtype='object')"
      ]
     },
     "execution_count": 51,
     "metadata": {},
     "output_type": "execute_result"
    }
   ],
   "source": [
    "bestFeature = selectKBest.fit_transform(\n",
    "    feature,\n",
    "    data['销售额']\n",
    ")\n",
    "feature.columns[selectKBest.get_support()]"
   ]
  },
  {
   "cell_type": "markdown",
   "metadata": {},
   "source": [
    "**递归特征消除法**：使用一个基模型来进行多轮训练，经过多轮训练后，保留指定的特征数。"
   ]
  },
  {
   "cell_type": "code",
   "execution_count": 53,
   "metadata": {},
   "outputs": [
    {
     "data": {
      "text/plain": [
       "array([False, False,  True,  True], dtype=bool)"
      ]
     },
     "execution_count": 53,
     "metadata": {},
     "output_type": "execute_result"
    }
   ],
   "source": [
    "from sklearn.feature_selection import RFE\n",
    "from sklearn.linear_model import LinearRegression\n",
    "\n",
    "rfe = RFE(\n",
    "    estimator=LinearRegression(),\n",
    "    #要选择的特征数\n",
    "    n_features_to_select=2\n",
    ")\n",
    "\n",
    "sFeature = rfe.fit_transform(\n",
    "    feature,\n",
    "    data['销售额']\n",
    ")\n",
    "rfe.get_support()"
   ]
  },
  {
   "cell_type": "markdown",
   "metadata": {},
   "source": [
    "**模型选择法**：它是一种我们把建好的模型对象传入选择器，然后它会根据这个已经建好的模型，自动帮我们选择最好的特征值"
   ]
  },
  {
   "cell_type": "code",
   "execution_count": 55,
   "metadata": {
    "scrolled": true
   },
   "outputs": [
    {
     "data": {
      "text/plain": [
       "array([[ 13.76],\n",
       "       [  9.7 ],\n",
       "       [  6.8 ],\n",
       "       [  6.2 ],\n",
       "       [  5.  ],\n",
       "       [  7.79],\n",
       "       [  5.5 ],\n",
       "       [  6.8 ],\n",
       "       [  6.9 ],\n",
       "       [  9.6 ],\n",
       "       [ 10.6 ],\n",
       "       [ 13.67],\n",
       "       [ 13.7 ],\n",
       "       [ 13.4 ],\n",
       "       [  8.5 ],\n",
       "       [  7.7 ],\n",
       "       [  6.4 ],\n",
       "       [  9.5 ],\n",
       "       [  6.4 ],\n",
       "       [  6.9 ],\n",
       "       [  8.8 ],\n",
       "       [  9.4 ],\n",
       "       [  9.6 ],\n",
       "       [ 13.  ],\n",
       "       [ 12.66],\n",
       "       [  9.6 ],\n",
       "       [  8.7 ],\n",
       "       [  7.5 ],\n",
       "       [  8.6 ],\n",
       "       [ 10.5 ],\n",
       "       [  8.  ],\n",
       "       [  7.7 ],\n",
       "       [  7.  ],\n",
       "       [  8.4 ],\n",
       "       [  9.7 ],\n",
       "       [ 11.11]])"
      ]
     },
     "execution_count": 55,
     "metadata": {},
     "output_type": "execute_result"
    }
   ],
   "source": [
    "from sklearn.feature_selection import SelectFromModel\n",
    "\n",
    "IrModel = LinearRegression()\n",
    "selectFromModel = SelectFromModel(IrModel)\n",
    "#传入自变量与因变量\n",
    "selectFromModel.fit_transform(\n",
    "    feature,\n",
    "    data['销售额']\n",
    ")\n"
   ]
  },
  {
   "cell_type": "code",
   "execution_count": 56,
   "metadata": {},
   "outputs": [
    {
     "data": {
      "text/plain": [
       "Index(['客流量'], dtype='object')"
      ]
     },
     "execution_count": 56,
     "metadata": {},
     "output_type": "execute_result"
    }
   ],
   "source": [
    "feature.columns[selectFromModel.get_support()]"
   ]
  },
  {
   "cell_type": "markdown",
   "metadata": {},
   "source": [
    ">### 维度压缩"
   ]
  },
  {
   "cell_type": "markdown",
   "metadata": {},
   "source": [
    "**主成分分析（Principal Components Analysis）**：在减少数据集的维度的同时，保持对方差贡献最大的特征。\n",
    "\n",
    "**PCA API**\n",
    "\n",
    "    pca_3 = PCA(n_components=3)\n",
    "\n",
    "    data_pca = pca_3.fit_transform(data)"
   ]
  },
  {
   "cell_type": "code",
   "execution_count": 57,
   "metadata": {
    "collapsed": true
   },
   "outputs": [],
   "source": [
    "from sklearn import datasets\n",
    "import matplotlib.pyplot as plt\n",
    "from sklearn.decomposition import PCA\n",
    "from mpl_toolkits.mplot3d import Axes3D\n",
    "\n",
    "iris = datasets.load_iris()\n",
    "data = iris.data\n",
    "target = iris.target\n"
   ]
  },
  {
   "cell_type": "code",
   "execution_count": 60,
   "metadata": {},
   "outputs": [
    {
     "data": {
      "image/png": "[encoded data removed]",
      "text/plain": [
       "<matplotlib.figure.Figure at 0x1b3e1c82e10>"
      ]
     },
     "metadata": {},
     "output_type": "display_data"
    }
   ],
   "source": [
    "colors = {\n",
    "    0: 'r',\n",
    "    1: 'b',\n",
    "    2: 'k'\n",
    "}\n",
    "\n",
    "markers = {\n",
    "    0: 'x',\n",
    "    1: 'D',\n",
    "    2: 'o'\n",
    "}\n",
    "\n",
    "#弹出图形\n",
    "#%matplotlib qt\n",
    "%matplotlib inline\n",
    "\n",
    "pca_3 = PCA(n_components=3)\n",
    "data_pca_3 = pca_3.fit_transform(data)\n",
    "\n",
    "#三维数据\n",
    "fig = plt.figure(1, figsize=(8, 6))\n",
    "ax = Axes3D(fig, elev=-150, azim=110)\n",
    "\n",
    "data_pca_gb = pandas.DataFrame(\n",
    "    data_pca_3\n",
    ").groupby(target)\n",
    "\n",
    "for g in data_pca_gb.groups:\n",
    "    ax.scatter(\n",
    "        data_pca_gb.get_group(g)[0], \n",
    "        data_pca_gb.get_group(g)[1], \n",
    "        data_pca_gb.get_group(g)[2], \n",
    "        c=colors[g], \n",
    "        marker=markers[g],\n",
    "        cmap=plt.cm.Paired\n",
    "    )\n"
   ]
  },
  {
   "cell_type": "code",
   "execution_count": 63,
   "metadata": {},
   "outputs": [
    {
     "data": {
      "image/png": "[encoded data removed]",
      "text/plain": [
       "<matplotlib.figure.Figure at 0x1b3e267f4e0>"
      ]
     },
     "metadata": {},
     "output_type": "display_data"
    }
   ],
   "source": [
    "#二维数据\n",
    "pca_2 = PCA(n_components=2)\n",
    "data_pca_2 = pca_2.fit_transform(data)\n",
    "\n",
    "data_pca_gb = pandas.DataFrame(data_pca_2).groupby(target)\n",
    "\n",
    "import matplotlib.pyplot as plt;\n",
    "\n",
    "for g in data_pca_gb.groups:\n",
    "    plt.scatter(\n",
    "        data_pca_gb.get_group(g)[0], \n",
    "        data_pca_gb.get_group(g)[1], \n",
    "        c=colors[g], \n",
    "        marker=markers[g],\n",
    "    )"
   ]
  }
 ],
 "metadata": {
  "kernelspec": {
   "display_name": "Python 3",
   "language": "python",
   "name": "python3"
  },
  "language_info": {
   "codemirror_mode": {
    "name": "ipython",
    "version": 3
   },
   "file_extension": ".py",
   "mimetype": "text/x-python",
   "name": "python",
   "nbconvert_exporter": "python",
   "pygments_lexer": "ipython3",
   "version": "3.6.1"
  }
 },
 "nbformat": 4,
 "nbformat_minor": 2
}
