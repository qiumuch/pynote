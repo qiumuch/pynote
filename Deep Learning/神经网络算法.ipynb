{
 "cells": [
  {
   "cell_type": "markdown",
   "metadata": {},
   "source": [
    ">### 手写数字识别：MNIST,Perceptron"
   ]
  },
  {
   "cell_type": "markdown",
   "metadata": {},
   "source": [
    "对于任何一个图像，可以看成一个矩阵，彩色的为三维矩阵\n",
    "\n",
    "像素--边缘--部分--整体\n",
    "\n"
   ]
  },
  {
   "cell_type": "code",
   "execution_count": 23,
   "metadata": {},
   "outputs": [
    {
     "name": "stdout",
     "output_type": "stream",
     "text": [
      "Nice! You got it all correct.\n",
      "\n"
     ]
    },
    {
     "data": {
      "text/html": [
       "<div>\n",
       "<style>\n",
       "    .dataframe thead tr:only-child th {\n",
       "        text-align: right;\n",
       "    }\n",
       "\n",
       "    .dataframe thead th {\n",
       "        text-align: left;\n",
       "    }\n",
       "\n",
       "    .dataframe tbody tr th {\n",
       "        vertical-align: top;\n",
       "    }\n",
       "</style>\n",
       "<table border=\"1\" class=\"dataframe\">\n",
       "  <thead>\n",
       "    <tr style=\"text-align: right;\">\n",
       "      <th></th>\n",
       "      <th>Input 1</th>\n",
       "      <th>Input 2</th>\n",
       "      <th>Linear Combination</th>\n",
       "      <th>Output</th>\n",
       "      <th>Is correct string</th>\n",
       "    </tr>\n",
       "  </thead>\n",
       "  <tbody>\n",
       "    <tr>\n",
       "      <th>0</th>\n",
       "      <td>0</td>\n",
       "      <td>0</td>\n",
       "      <td>0.8</td>\n",
       "      <td>1</td>\n",
       "      <td>Yes</td>\n",
       "    </tr>\n",
       "    <tr>\n",
       "      <th>1</th>\n",
       "      <td>0</td>\n",
       "      <td>1</td>\n",
       "      <td>-0.2</td>\n",
       "      <td>0</td>\n",
       "      <td>Yes</td>\n",
       "    </tr>\n",
       "    <tr>\n",
       "      <th>2</th>\n",
       "      <td>1</td>\n",
       "      <td>0</td>\n",
       "      <td>0.8</td>\n",
       "      <td>1</td>\n",
       "      <td>Yes</td>\n",
       "    </tr>\n",
       "    <tr>\n",
       "      <th>3</th>\n",
       "      <td>1</td>\n",
       "      <td>1</td>\n",
       "      <td>-0.2</td>\n",
       "      <td>0</td>\n",
       "      <td>Yes</td>\n",
       "    </tr>\n",
       "  </tbody>\n",
       "</table>\n",
       "</div>"
      ],
      "text/plain": [
       "   Input 1  Input 2  Linear Combination  Output Is correct string\n",
       "0        0        0                 0.8       1               Yes\n",
       "1        0        1                -0.2       0               Yes\n",
       "2        1        0                 0.8       1               Yes\n",
       "3        1        1                -0.2       0               Yes"
      ]
     },
     "execution_count": 23,
     "metadata": {},
     "output_type": "execute_result"
    }
   ],
   "source": [
    "import pandas as pd\n",
    "\n",
    "#TODO: Set weight1,weight2,and bias\n",
    "weight1 = 0\n",
    "weight2 = -1\n",
    "bias = 0.8\n",
    "\n",
    "#Inputs and outputs\n",
    "test_inputs = [(0,0),(0,1),(1,0),(1,1)]\n",
    "correct_outputs = [True,False,True,False]\n",
    "outputs = []\n",
    "\n",
    "#Generate and check output\n",
    "for test_input ,correct_output in zip(test_inputs,correct_outputs):\n",
    "    linear_combination = weight1 * test_input[0] + weight2 * test_input[1] + bias\n",
    "    output = int(linear_combination >= 0)\n",
    "    is_correct_string = 'Yes' if output == correct_output else 'No'\n",
    "    outputs.append([test_input[0],test_input[1],linear_combination,output,is_correct_string])\n",
    "\n",
    "#Print output\n",
    "num_wrong = len([output[4] for output in outputs if output[4] == 'No'])\n",
    "output_frame = pd.DataFrame(outputs,columns=['Input 1','Input 2','Linear Combination',\n",
    "                                             'Output','Is correct string'])\n",
    "if not num_wrong:\n",
    "    print('Nice! You got it all correct.\\n')\n",
    "else:\n",
    "    print('You got {} wrong.Keep trying!\\n'.format(num_wrong))\n",
    "# print(output_frame.to_string(index=False))\n",
    "output_frame"
   ]
  },
  {
   "cell_type": "code",
   "execution_count": 27,
   "metadata": {},
   "outputs": [
    {
     "name": "stdout",
     "output_type": "stream",
     "text": [
      "Output:\n",
      "0.408541021567\n"
     ]
    }
   ],
   "source": [
    "import numpy as np\n",
    "\n",
    "def sigmoid(x):\n",
    "    # TODO:Implement sigmoid function\n",
    "    return 1/(1+np.exp(-x))\n",
    "\n",
    "inputs = np.array([0.7,-0.3])\n",
    "weights = np.array([0.1,0.8])\n",
    "bias = -0.1\n",
    "\n",
    "# TODO:Calculate the output\n",
    "output = sigmoid(sum([i*w+bias for i,w in zip(inputs,weights)]))\n",
    "\n",
    "print('Output:')\n",
    "print(output)"
   ]
  },
  {
   "cell_type": "code",
   "execution_count": 29,
   "metadata": {
    "collapsed": true
   },
   "outputs": [],
   "source": [
    "#Defining the sigmoid function for activations\n",
    "# 定义 sigmoid 激活函数\n",
    "def sigmoid(x):\n",
    "    return 1/(1+np.exp(-x))\n",
    "\n",
    "# Derivative of the sigmoid function\n",
    "# 激活函数的导数\n",
    "def sigmoid_prime(x):\n",
    "    return sigmoid(x)*(1-sigmoid(x))\n",
    "\n",
    "# Input data\n",
    "# 输入数据\n",
    "x = np.array([0.1,0.3])\n",
    "\n",
    "# Target\n",
    "# 目标\n",
    "y = 0.2\n",
    "\n",
    "# Input to output weights\n",
    "# 输入到输出的权重\n",
    "weights = np.array([-0.8,0.5])\n",
    "\n",
    "# The learing rate,eta in the weight step equation\n",
    "# 权重更新的学习率\n",
    "learnrate = 0.5\n",
    "\n",
    "# the linear combination performed by node (h in f(h) and f'(h))\n",
    "# 输入和权重的线性组合\n",
    "h = x[0]*weights[0] + x[1]*weights[1]\n",
    "# or h = np.dot(x,weights)\n",
    "\n",
    "# The neural network output (y-hat)\n",
    "# 神经网络\n",
    "nn_output = sigmoid(h)\n",
    "\n",
    "# output error (y - y-hat)\n",
    "# 输入误差\n",
    "error = y - nn_output\n",
    "\n",
    "# output gradient (f'(h))\n",
    "# 输入梯度\n",
    "output_grad = sigmoid_prime(h)\n",
    "\n",
    "# error term (lowercase delta)\n",
    "error_term = error * output_grad\n",
    "\n",
    "# Gradient descent step\n",
    "# 梯度下降一步\n",
    "del_w = [learnrate * error_term * x[0],\n",
    "learnrate * error_term *x[1]]\n",
    "# or del_w = learnrate * error_term * x"
   ]
  },
  {
   "cell_type": "code",
   "execution_count": 36,
   "metadata": {},
   "outputs": [
    {
     "name": "stdout",
     "output_type": "stream",
     "text": [
      "Hidden-layer Output:\n",
      "[ 0.41492192  0.42604313  0.5002434 ]\n",
      "Output-layer Output:\n",
      "[ 0.49815196  0.48539772]\n"
     ]
    }
   ],
   "source": [
    "import numpy as np\n",
    "\n",
    "def sigmoid(x):\n",
    "    #Calculate sigmoid\n",
    "    return 1/(1+np.exp(-x))\n",
    "\n",
    "# Network size\n",
    "N_input = 4\n",
    "N_hidden = 3\n",
    "N_output = 2\n",
    "\n",
    "np.random.seed(42)\n",
    "# Make some fake data\n",
    "X = np.random.randn(4)\n",
    "\n",
    "weight_input_to_hidden = np.random.normal(0,scale=0.1,size=(N_input,N_hidden))\n",
    "weight_hidden_to_output = np.random.normal(0,scale=0.1,size=(N_hidden,N_output))\n",
    "\n",
    "# TODO:Make a forward pass through the network\n",
    "hidden_layer_in = np.dot(X,weight_input_to_hidden)\n",
    "hidden_layer_out = sigmoid(hidden_layer_in)\n",
    "\n",
    "print('Hidden-layer Output:')\n",
    "print(hidden_layer_out)\n",
    "\n",
    "output_layer_in = np.dot(hidden_layer_out,weight_hidden_to_output)\n",
    "output_layer_out = sigmoid(output_layer_in)\n",
    "\n",
    "print('Output-layer Output:')\n",
    "print(output_layer_out)"
   ]
  },
  {
   "cell_type": "code",
   "execution_count": 32,
   "metadata": {},
   "outputs": [
    {
     "data": {
      "text/plain": [
       "array([[-0.02341534, -0.0234137 ,  0.15792128],\n",
       "       [ 0.07674347, -0.04694744,  0.054256  ],\n",
       "       [-0.04634177, -0.04657298,  0.02419623],\n",
       "       [-0.19132802, -0.17249178, -0.05622875]])"
      ]
     },
     "execution_count": 32,
     "metadata": {},
     "output_type": "execute_result"
    }
   ],
   "source": [
    "weight_input_to_hidden"
   ]
  },
  {
   "cell_type": "code",
   "execution_count": null,
   "metadata": {
    "collapsed": true
   },
   "outputs": [],
   "source": [
    "import numpy as np\n",
    "\n",
    "def sigmoid(x):\n",
    "# Calculate sigmoid\n",
    "return 1/(1+np.exp(-x))\n",
    "x = np.array([0.5,0.1,-0.2])\n",
    "target = 0.6\n",
    "learnrate = 0.5\n",
    "\n",
    "weights_input_hidden = np.array([[0.5,-0.6],[0.1,0.2],[0.1,0.7]])\n",
    "weights_hidden_output = np.array([0.1,-0.3])\n",
    "\n",
    "# Forward pass\n",
    "hidden_layer_input = np.dot(x,weights_input_hidden)\n",
    "hidden_layer_output = sigmoid(hidden_layer_input)\n",
    "\n",
    "output_layer_in = np.dot(hidden_layer_output,weights_hidden_output\n",
    "output = sigmoid(output_layer_in)\n",
    "\n",
    "# Backwards pass\n",
    "# TODO:Calculate output error\n",
    "error = None"
   ]
  }
 ],
 "metadata": {
  "kernelspec": {
   "display_name": "Python 3",
   "language": "python",
   "name": "python3"
  },
  "language_info": {
   "codemirror_mode": {
    "name": "ipython",
    "version": 3
   },
   "file_extension": ".py",
   "mimetype": "text/x-python",
   "name": "python",
   "nbconvert_exporter": "python",
   "pygments_lexer": "ipython3",
   "version": "3.6.1"
  }
 },
 "nbformat": 4,
 "nbformat_minor": 2
}
